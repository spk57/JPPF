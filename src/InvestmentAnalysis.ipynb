{
 "cells": [
  {
   "attachments": {},
   "cell_type": "markdown",
   "metadata": {},
   "source": [
    "# Personal Investment Analysis"
   ]
  },
  {
   "cell_type": "code",
   "execution_count": 1,
   "metadata": {},
   "outputs": [
    {
     "data": {
      "text/html": [
       "<H3>Personal Investment Analysis<H3>"
      ]
     },
     "metadata": {},
     "output_type": "display_data"
    },
    {
     "data": {
      "text/html": [
       "Report Date: 2023-06-25"
      ]
     },
     "metadata": {},
     "output_type": "display_data"
    }
   ],
   "source": [
    "using PyPlot, DataFrames, NPFinancial, Dates, KeywordSearch, Random\n",
    "using StatsPlots, Formatting, Dates, PrettyTables, XLSX, PlotThemes, MarketData\n",
    "include(\"PersonalFinance.jl\")\n",
    "ht(\"<H3>Personal Investment Analysis<H3>\")\n",
    "ht(\"Report Date: $(today())\")"
   ]
  },
  {
   "cell_type": "code",
   "execution_count": 2,
   "metadata": {},
   "outputs": [
    {
     "data": {
      "text/html": [
       "Investment input: ../data/Investments.xlsx"
      ]
     },
     "metadata": {},
     "output_type": "display_data"
    },
    {
     "data": {
      "text/html": [
       "TransactionInput input: ../data/Transactions.xlsx"
      ]
     },
     "metadata": {},
     "output_type": "display_data"
    },
    {
     "data": {
      "text/html": [
       "<div><div style = \"float: left;\"><span>1×6 DataFrame</span></div><div style = \"clear: both;\"></div></div><div class = \"data-frame\" style = \"overflow-x: scroll;\"><table class = \"data-frame\" style = \"margin-bottom: 6px;\"><thead><tr class = \"header\"><th class = \"rowNumber\" style = \"font-weight: bold; text-align: right;\">Row</th><th style = \"text-align: left;\">Date</th><th style = \"text-align: left;\">Account</th><th style = \"text-align: left;\">Description</th><th style = \"text-align: left;\">Category</th><th style = \"text-align: left;\">Tags</th><th style = \"text-align: left;\">Amount</th></tr><tr class = \"subheader headerLastRow\"><th class = \"rowNumber\" style = \"font-weight: bold; text-align: right;\"></th><th title = \"String\" style = \"text-align: left;\">String</th><th title = \"String\" style = \"text-align: left;\">String</th><th title = \"String\" style = \"text-align: left;\">String</th><th title = \"String\" style = \"text-align: left;\">String</th><th title = \"Any\" style = \"text-align: left;\">Any</th><th title = \"Int64\" style = \"text-align: left;\">Int64</th></tr></thead><tbody><tr><td class = \"rowNumber\" style = \"font-weight: bold; text-align: right;\">1</td><td style = \"text-align: left;\">2021-07-16</td><td style = \"text-align: left;\">Brokeragelink - Ending in 9921</td><td style = \"text-align: left;\">You Bought Toyota Motor Adr Rep 2 Ord</td><td style = \"text-align: left;\">Securities Trades</td><td style = \"font-style: italic; text-align: left;\">missing</td><td style = \"text-align: right;\">-3578</td></tr></tbody></table></div>"
      ],
      "text/latex": [
       "\\begin{tabular}{r|cccc}\n",
       "\t& Date & Account & Description & \\\\\n",
       "\t\\hline\n",
       "\t& String & String & String & \\\\\n",
       "\t\\hline\n",
       "\t1 & 2021-07-16 & Brokeragelink - Ending in 9921 & You Bought Toyota Motor Adr Rep 2 Ord & $\\dots$ \\\\\n",
       "\\end{tabular}\n"
      ],
      "text/plain": [
       "\u001b[1m1×6 DataFrame\u001b[0m\n",
       "\u001b[1m Row \u001b[0m│\u001b[1m Date       \u001b[0m\u001b[1m Account                        \u001b[0m\u001b[1m Description                \u001b[0m ⋯\n",
       "     │\u001b[90m String     \u001b[0m\u001b[90m String                         \u001b[0m\u001b[90m String                     \u001b[0m ⋯\n",
       "─────┼──────────────────────────────────────────────────────────────────────────\n",
       "   1 │ 2021-07-16  Brokeragelink - Ending in 9921  You Bought Toyota Motor Adr ⋯\n",
       "\u001b[36m                                                               4 columns omitted\u001b[0m"
      ]
     },
     "metadata": {},
     "output_type": "display_data"
    }
   ],
   "source": [
    "dataDir=\"../data\"\n",
    "invSheet=joinpath(dataDir,\"Investments.xlsx\")\n",
    "ht(\"Investment input: $invSheet\")\n",
    "invTab=\"Investments\"\n",
    "transSheet=joinpath(dataDir, \"Transactions.xlsx\")\n",
    "ht(\"TransactionInput input: $transSheet\")\n",
    "inv=readTab(invSheet, invTab)\n",
    "stockList=select(inv, [:Code, :Type]) \n",
    "stockList=filter(:Type => t -> t == \"Stock\", stockList)\n",
    "stockList=stockList[!, :Code]\n",
    "holdings=Symbol.(setdiff(inv.Code, [\"House\", \"FidelityHP\"]))\n",
    "trans=readTab(transSheet, 1);\n",
    "#formatters = (v, i, j) -> (j in [6] ) ? format(round(Int, v), commas=true,parens=true) : v\n",
    "#pretty_table(inv; backend = Val(:html), nosubheader=true)"
   ]
  },
  {
   "attachments": {},
   "cell_type": "markdown",
   "metadata": {},
   "source": [
    "## Historical Analysis "
   ]
  },
  {
   "cell_type": "code",
   "execution_count": 3,
   "metadata": {},
   "outputs": [
    {
     "data": {
      "text/html": [
       "<table>\n",
       "  <thead>\n",
       "    <tr class = \"header headerLastRow\">\n",
       "      <th style = \"text-align: right;\">Date</th>\n",
       "      <th style = \"text-align: right;\">Account</th>\n",
       "      <th style = \"text-align: right;\">Description</th>\n",
       "      <th style = \"text-align: right;\">Category</th>\n",
       "      <th style = \"text-align: right;\">Tags</th>\n",
       "      <th style = \"text-align: right;\">Amount</th>\n",
       "    </tr>\n",
       "  </thead>\n",
       "  <tbody>\n",
       "  </tbody>\n",
       "</table>\n"
      ]
     },
     "metadata": {},
     "output_type": "display_data"
    }
   ],
   "source": [
    "#Find sold investments\n",
    "sold=  filter(:Amount => t -> t<(0.0), trans)\n",
    "bought=filter(:Amount => t -> t>(0.0), trans)\n",
    "#profit=outerjoin(sold, bought, on=:InvestmentID, makeunique=true)\n",
    "pretty_table(bought; backend = Val(:html), nosubheader=true)\n",
    "#profit=select(profit, [1,3,4,5,8])\n",
    "#rename!(profit, [\"ID\", \"AmountSold\", \"SharesSold\", \"DateSold\", \"Basis\"])"
   ]
  },
  {
   "cell_type": "code",
   "execution_count": 4,
   "metadata": {
    "tags": []
   },
   "outputs": [
    {
     "ename": "UndefVarError",
     "evalue": "UndefVarError: `PolyOpts` not defined",
     "output_type": "error",
     "traceback": [
      "UndefVarError: `PolyOpts` not defined\n",
      "\n",
      "Stacktrace:\n",
      " [1] top-level scope\n",
      "   @ ~/dev/projects/JPPF.jl/src/InvestmentAnalysis.ipynb:1"
     ]
    }
   ],
   "source": [
    "opts=PolyOpts(\"SgTZRxROKKu6NrZ9SMSc60myLze5jgOa\", DataFrame)\n",
    "function getstock_daily(opts, holding, day)\n",
    "  try \n",
    "#    stocks_daily_open_close(opts, holding, day)\n",
    "     stocks_previous_close(opts,holding)\n",
    "  catch \n",
    "    try \n",
    "#      stocks_daily_open_close(opts, holding, day)\n",
    "    sleep(5)\n",
    "    stocks_previous_close(opts,holding)\n",
    "    catch\n",
    "      display(\"Unable to get price for $holding on $day\")\n",
    "      missing\n",
    "    end\n",
    "  end\n",
    "end\n",
    "stocklist_daily(opts, holdings, day=today())=vcat(map(h-> getstock_daily(opts, h, day), holdings)...);\n"
   ]
  },
  {
   "cell_type": "code",
   "execution_count": null,
   "metadata": {},
   "outputs": [],
   "source": [
    "function lastBusinessDay(d)\n",
    "  dow=Dates.dayofweek(d)\n",
    "  if dow in [2,3,4,5,6] #T-Sa\n",
    "    offset=1\n",
    "  elseif dow == 1 #M\n",
    "    offset=3\n",
    "  else\n",
    "    offset=2 #Su\n",
    "  end\n",
    "  d-Dates.Day(offset)\n",
    "end\n",
    "function getHLOC(ticker, date)\n",
    "  startDate=lastBusinessDay(date)\n",
    "  try \n",
    "    df=DataFrame(yahoo(ticker, YahooOpt(period1=startDate, period2=startDate)))\n",
    "  catch\n",
    "    display(\"Unable to find ticker $ticker for $(string(startDate))\")\n",
    "    return missing\n",
    "  end\n",
    "  df=hcat(df, [ticker])\n",
    "  DataFrames.rename!(df, 8 => \"Ticker\")\n",
    "end"
   ]
  },
  {
   "cell_type": "code",
   "execution_count": null,
   "metadata": {},
   "outputs": [],
   "source": [
    "date=DateTime(2021,8,20)\n",
    "yahoo(\"MRNA\", YahooOpt(period1=date))"
   ]
  },
  {
   "cell_type": "code",
   "execution_count": null,
   "metadata": {},
   "outputs": [],
   "source": [
    "stocksYesterday=vcat(map(x -> getHLOC(x, today()), stockList)...)\n",
    "pretty_table(stocksYesterday; backend = Val(:html), nosubheader=true)"
   ]
  },
  {
   "cell_type": "code",
   "execution_count": null,
   "metadata": {},
   "outputs": [],
   "source": [
    "using KeywordSearch, Random\n",
    "d1=\"Dividend Received As Of 07/31/2021 Jpmorgan Chase & Co\"\n",
    "s2=\"JPMorgan chase\"\n",
    "fuzzy_query=FuzzyQuery(s2)\n",
    "m=match(fuzzy_query, d1)\n",
    "display(m)\n",
    "explain(m)\n"
   ]
  }
 ],
 "metadata": {
  "kernelspec": {
   "display_name": "Julia 1.9.1",
   "language": "julia",
   "name": "julia-1.9"
  },
  "language_info": {
   "file_extension": ".jl",
   "mimetype": "application/julia",
   "name": "julia",
   "version": "1.9.1"
  }
 },
 "nbformat": 4,
 "nbformat_minor": 5
}
