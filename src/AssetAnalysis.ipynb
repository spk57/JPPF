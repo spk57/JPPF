{
 "cells": [
  {
   "cell_type": "markdown",
   "metadata": {},
   "source": [
    "# Asset Analysis\n",
    "Developed by Steve Kuhlman"
   ]
  },
  {
   "cell_type": "code",
   "execution_count": 1,
   "metadata": {},
   "outputs": [
    {
     "data": {
      "text/plain": [
       "fillOutHoldings!"
      ]
     },
     "execution_count": 1,
     "metadata": {},
     "output_type": "execute_result"
    }
   ],
   "source": [
    "using WGLMakie, AlgebraOfGraphics,  XLSX, DataFrames, Dates\n",
    "include(\"Common.jl\")\n",
    "include(\"updateHoldings.jl\")"
   ]
  },
  {
   "cell_type": "code",
   "execution_count": 2,
   "metadata": {
    "tags": []
   },
   "outputs": [],
   "source": [
    "#Note: Enter the folder containing data here\n",
    "dataDir=\"../data\"\n",
    "marketDir=joinpath(dataDir, \"market\")\n",
    "(markets, marketNames)=readMarkets(marketDir);"
   ]
  },
  {
   "cell_type": "code",
   "execution_count": null,
   "metadata": {},
   "outputs": [],
   "source": [
    "dateRange=getDateRange(markets)\n",
    "gmarkets=groupby(markets, :Ticker);\n",
    "minClose=getMinClose(gmarkets)\n",
    "normalize(x,y)= (x / minClose[y], minClose[y])\n",
    "transform!(markets, [:Close, :Ticker] => ByRow(normalize) => [:CloseNorm, :minClose]);\n"
   ]
  },
  {
   "cell_type": "code",
   "execution_count": null,
   "metadata": {
    "tags": []
   },
   "outputs": [],
   "source": [
    "\"Plot normalized values of investments\"\n",
    "plt=data(markets) * mapping(:timestamp, :CloseNorm, color=:Ticker) * visual(Lines)\n",
    "draw(plt)"
   ]
  },
  {
   "cell_type": "code",
   "execution_count": null,
   "metadata": {},
   "outputs": [],
   "source": [
    "\"Plot market prices of investments\"\n",
    "#plt=data(markets) * mapping(:timestamp, :Close, color=:Ticker) * visual(Lines)\n",
    "#draw(plt)"
   ]
  },
  {
   "cell_type": "code",
   "execution_count": 8,
   "metadata": {},
   "outputs": [
    {
     "name": "stdout",
     "output_type": "stream",
     "text": [
      "First Date: 2021-10-19\n"
     ]
    },
    {
     "data": {
      "text/html": [
       "<div class=\"data-frame\"><p>1,981 rows × 5 columns</p><table class=\"data-frame\"><thead><tr><th></th><th>close</th><th>date</th><th>name</th><th>count</th><th>value</th></tr><tr><th></th><th title=\"Float64\">Float64</th><th title=\"Date\">Date</th><th title=\"Symbol\">Symbol</th><th title=\"Float16\">Float16</th><th title=\"Union{Missing, Float16}\">Float16?</th></tr></thead><tbody><tr><th>1</th><td>17.81</td><td>2021-11-15</td><td>BLDP</td><td>100.0</td><td>17.84</td></tr><tr><th>2</th><td>17.84</td><td>2021-11-16</td><td>BLDP</td><td>100.0</td><td><em>missing</em></td></tr><tr><th>3</th><td>16.67</td><td>2021-11-17</td><td>BLDP</td><td>100.0</td><td><em>missing</em></td></tr><tr><th>4</th><td>16.06</td><td>2021-11-18</td><td>BLDP</td><td>100.0</td><td><em>missing</em></td></tr><tr><th>5</th><td>16.27</td><td>2021-11-19</td><td>BLDP</td><td>100.0</td><td><em>missing</em></td></tr><tr><th>6</th><td>16.05</td><td>2021-11-22</td><td>BLDP</td><td>100.0</td><td><em>missing</em></td></tr><tr><th>7</th><td>15.67</td><td>2021-11-23</td><td>BLDP</td><td>100.0</td><td><em>missing</em></td></tr><tr><th>8</th><td>15.91</td><td>2021-11-24</td><td>BLDP</td><td>100.0</td><td><em>missing</em></td></tr><tr><th>9</th><td>15.33</td><td>2021-11-26</td><td>BLDP</td><td>100.0</td><td><em>missing</em></td></tr><tr><th>10</th><td>15.33</td><td>2021-11-29</td><td>BLDP</td><td>100.0</td><td><em>missing</em></td></tr><tr><th>11</th><td>15.16</td><td>2021-11-30</td><td>BLDP</td><td>100.0</td><td><em>missing</em></td></tr><tr><th>12</th><td>14.11</td><td>2021-12-01</td><td>BLDP</td><td>100.0</td><td><em>missing</em></td></tr><tr><th>13</th><td>14.01</td><td>2021-12-02</td><td>BLDP</td><td>100.0</td><td><em>missing</em></td></tr><tr><th>14</th><td>13.23</td><td>2021-12-03</td><td>BLDP</td><td>100.0</td><td><em>missing</em></td></tr><tr><th>15</th><td>13.57</td><td>2021-12-06</td><td>BLDP</td><td>100.0</td><td><em>missing</em></td></tr><tr><th>16</th><td>14.29</td><td>2021-12-07</td><td>BLDP</td><td>100.0</td><td><em>missing</em></td></tr><tr><th>17</th><td>14.45</td><td>2021-12-08</td><td>BLDP</td><td>100.0</td><td><em>missing</em></td></tr><tr><th>18</th><td>13.46</td><td>2021-12-09</td><td>BLDP</td><td>100.0</td><td><em>missing</em></td></tr><tr><th>19</th><td>13.16</td><td>2021-12-10</td><td>BLDP</td><td>100.0</td><td><em>missing</em></td></tr><tr><th>20</th><td>13.06</td><td>2021-12-13</td><td>BLDP</td><td>100.0</td><td><em>missing</em></td></tr><tr><th>21</th><td>12.36</td><td>2021-12-14</td><td>BLDP</td><td>100.0</td><td><em>missing</em></td></tr><tr><th>22</th><td>12.72</td><td>2021-12-15</td><td>BLDP</td><td>100.0</td><td><em>missing</em></td></tr><tr><th>23</th><td>12.6</td><td>2021-12-16</td><td>BLDP</td><td>100.0</td><td><em>missing</em></td></tr><tr><th>24</th><td>12.87</td><td>2021-12-17</td><td>BLDP</td><td>100.0</td><td><em>missing</em></td></tr><tr><th>25</th><td>12.07</td><td>2021-12-20</td><td>BLDP</td><td>100.0</td><td><em>missing</em></td></tr><tr><th>26</th><td>12.54</td><td>2021-12-21</td><td>BLDP</td><td>100.0</td><td><em>missing</em></td></tr><tr><th>27</th><td>12.51</td><td>2021-12-22</td><td>BLDP</td><td>100.0</td><td><em>missing</em></td></tr><tr><th>28</th><td>12.67</td><td>2021-12-23</td><td>BLDP</td><td>100.0</td><td><em>missing</em></td></tr><tr><th>29</th><td>12.6</td><td>2021-12-27</td><td>BLDP</td><td>100.0</td><td><em>missing</em></td></tr><tr><th>30</th><td>12.43</td><td>2021-12-28</td><td>BLDP</td><td>100.0</td><td><em>missing</em></td></tr><tr><th>&vellip;</th><td>&vellip;</td><td>&vellip;</td><td>&vellip;</td><td>&vellip;</td><td>&vellip;</td></tr></tbody></table></div>"
      ],
      "text/latex": [
       "\\begin{tabular}{r|ccccc}\n",
       "\t& close & date & name & count & value\\\\\n",
       "\t\\hline\n",
       "\t& Float64 & Date & Symbol & Float16 & Float16?\\\\\n",
       "\t\\hline\n",
       "\t1 & 17.81 & 2021-11-15 & BLDP & 100.0 & 17.84 \\\\\n",
       "\t2 & 17.84 & 2021-11-16 & BLDP & 100.0 & \\emph{missing} \\\\\n",
       "\t3 & 16.67 & 2021-11-17 & BLDP & 100.0 & \\emph{missing} \\\\\n",
       "\t4 & 16.06 & 2021-11-18 & BLDP & 100.0 & \\emph{missing} \\\\\n",
       "\t5 & 16.27 & 2021-11-19 & BLDP & 100.0 & \\emph{missing} \\\\\n",
       "\t6 & 16.05 & 2021-11-22 & BLDP & 100.0 & \\emph{missing} \\\\\n",
       "\t7 & 15.67 & 2021-11-23 & BLDP & 100.0 & \\emph{missing} \\\\\n",
       "\t8 & 15.91 & 2021-11-24 & BLDP & 100.0 & \\emph{missing} \\\\\n",
       "\t9 & 15.33 & 2021-11-26 & BLDP & 100.0 & \\emph{missing} \\\\\n",
       "\t10 & 15.33 & 2021-11-29 & BLDP & 100.0 & \\emph{missing} \\\\\n",
       "\t11 & 15.16 & 2021-11-30 & BLDP & 100.0 & \\emph{missing} \\\\\n",
       "\t12 & 14.11 & 2021-12-01 & BLDP & 100.0 & \\emph{missing} \\\\\n",
       "\t13 & 14.01 & 2021-12-02 & BLDP & 100.0 & \\emph{missing} \\\\\n",
       "\t14 & 13.23 & 2021-12-03 & BLDP & 100.0 & \\emph{missing} \\\\\n",
       "\t15 & 13.57 & 2021-12-06 & BLDP & 100.0 & \\emph{missing} \\\\\n",
       "\t16 & 14.29 & 2021-12-07 & BLDP & 100.0 & \\emph{missing} \\\\\n",
       "\t17 & 14.45 & 2021-12-08 & BLDP & 100.0 & \\emph{missing} \\\\\n",
       "\t18 & 13.46 & 2021-12-09 & BLDP & 100.0 & \\emph{missing} \\\\\n",
       "\t19 & 13.16 & 2021-12-10 & BLDP & 100.0 & \\emph{missing} \\\\\n",
       "\t20 & 13.06 & 2021-12-13 & BLDP & 100.0 & \\emph{missing} \\\\\n",
       "\t21 & 12.36 & 2021-12-14 & BLDP & 100.0 & \\emph{missing} \\\\\n",
       "\t22 & 12.72 & 2021-12-15 & BLDP & 100.0 & \\emph{missing} \\\\\n",
       "\t23 & 12.6 & 2021-12-16 & BLDP & 100.0 & \\emph{missing} \\\\\n",
       "\t24 & 12.87 & 2021-12-17 & BLDP & 100.0 & \\emph{missing} \\\\\n",
       "\t25 & 12.07 & 2021-12-20 & BLDP & 100.0 & \\emph{missing} \\\\\n",
       "\t26 & 12.54 & 2021-12-21 & BLDP & 100.0 & \\emph{missing} \\\\\n",
       "\t27 & 12.51 & 2021-12-22 & BLDP & 100.0 & \\emph{missing} \\\\\n",
       "\t28 & 12.67 & 2021-12-23 & BLDP & 100.0 & \\emph{missing} \\\\\n",
       "\t29 & 12.6 & 2021-12-27 & BLDP & 100.0 & \\emph{missing} \\\\\n",
       "\t30 & 12.43 & 2021-12-28 & BLDP & 100.0 & \\emph{missing} \\\\\n",
       "\t$\\dots$ & $\\dots$ & $\\dots$ & $\\dots$ & $\\dots$ & $\\dots$ \\\\\n",
       "\\end{tabular}\n"
      ],
      "text/plain": [
       "\u001b[1m1981×5 DataFrame\u001b[0m\n",
       "\u001b[1m  Row \u001b[0m│\u001b[1m close   \u001b[0m\u001b[1m date       \u001b[0m\u001b[1m name   \u001b[0m\u001b[1m count   \u001b[0m\u001b[1m value      \u001b[0m\n",
       "\u001b[1m      \u001b[0m│\u001b[90m Float64 \u001b[0m\u001b[90m Date       \u001b[0m\u001b[90m Symbol \u001b[0m\u001b[90m Float16 \u001b[0m\u001b[90m Float16?   \u001b[0m\n",
       "──────┼──────────────────────────────────────────────────\n",
       "    1 │   17.81  2021-11-15  BLDP    100.0         17.84\n",
       "    2 │   17.84  2021-11-16  BLDP    100.0   \u001b[90m missing    \u001b[0m\n",
       "    3 │   16.67  2021-11-17  BLDP    100.0   \u001b[90m missing    \u001b[0m\n",
       "    4 │   16.06  2021-11-18  BLDP    100.0   \u001b[90m missing    \u001b[0m\n",
       "    5 │   16.27  2021-11-19  BLDP    100.0   \u001b[90m missing    \u001b[0m\n",
       "    6 │   16.05  2021-11-22  BLDP    100.0   \u001b[90m missing    \u001b[0m\n",
       "    7 │   15.67  2021-11-23  BLDP    100.0   \u001b[90m missing    \u001b[0m\n",
       "    8 │   15.91  2021-11-24  BLDP    100.0   \u001b[90m missing    \u001b[0m\n",
       "    9 │   15.33  2021-11-26  BLDP    100.0   \u001b[90m missing    \u001b[0m\n",
       "   10 │   15.33  2021-11-29  BLDP    100.0   \u001b[90m missing    \u001b[0m\n",
       "   11 │   15.16  2021-11-30  BLDP    100.0   \u001b[90m missing    \u001b[0m\n",
       "  ⋮   │    ⋮         ⋮         ⋮        ⋮         ⋮\n",
       " 1972 │   35.12  2022-08-05  WY        0.044 \u001b[90m missing    \u001b[0m\n",
       " 1973 │   35.12  2022-08-05  WY        0.135 \u001b[90m missing    \u001b[0m\n",
       " 1974 │   35.6   2022-08-08  WY        0.044 \u001b[90m missing    \u001b[0m\n",
       " 1975 │   35.6   2022-08-08  WY        0.135 \u001b[90m missing    \u001b[0m\n",
       " 1976 │   35.23  2022-08-09  WY        0.044 \u001b[90m missing    \u001b[0m\n",
       " 1977 │   35.23  2022-08-09  WY        0.135 \u001b[90m missing    \u001b[0m\n",
       " 1978 │   36.08  2022-08-10  WY        0.044 \u001b[90m missing    \u001b[0m\n",
       " 1979 │   36.08  2022-08-10  WY        0.135 \u001b[90m missing    \u001b[0m\n",
       " 1980 │   36.43  2022-08-11  WY        0.044 \u001b[90m missing    \u001b[0m\n",
       " 1981 │   36.43  2022-08-11  WY        0.135 \u001b[90m missing    \u001b[0m\n",
       "\u001b[36m                                        1960 rows omitted\u001b[0m"
      ]
     },
     "execution_count": 8,
     "metadata": {},
     "output_type": "execute_result"
    }
   ],
   "source": [
    "holdingsFile=joinpath(dataDir, \"Accounts_HistoryFidelity1.xlsx\")\n",
    "rh=readHoldings(holdingsFile, 3);\n",
    "holdings=loadHoldings(rh);\n",
    "dates=map(d-> d.date, holdings)\n",
    "firstDate=minimum(dates)\n",
    "println(\"First Date: $firstDate\")\n",
    "fHoldings=fillOutHoldings!(holdings, holdingsChanges, firstDate)\n",
    "\n",
    "hdf=st2df(fHoldings, Holding)\n",
    "j1=innerjoin(markets, hdf, on = [:date, :name])"
   ]
  }
 ],
 "metadata": {
  "kernelspec": {
   "display_name": "Julia 1.8.2",
   "language": "julia",
   "name": "julia-1.8"
  },
  "language_info": {
   "file_extension": ".jl",
   "mimetype": "application/julia",
   "name": "julia",
   "version": "1.8.2"
  },
  "vscode": {
   "interpreter": {
    "hash": "31f2aee4e71d21fbe5cf8b01ff0e069b9275f58929596ceb00d14d90e3e16cd6"
   }
  }
 },
 "nbformat": 4,
 "nbformat_minor": 4
}
