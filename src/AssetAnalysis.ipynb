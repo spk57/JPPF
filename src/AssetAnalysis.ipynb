{
 "cells": [
  {
   "cell_type": "markdown",
   "metadata": {},
   "source": [
    "# Asset Analysis\n",
    "Developed by Steve Kuhlman"
   ]
  },
  {
   "cell_type": "code",
   "execution_count": 7,
   "metadata": {},
   "outputs": [
    {
     "data": {
      "text/plain": [
       "readHoldings (generic function with 1 method)"
      ]
     },
     "execution_count": 7,
     "metadata": {},
     "output_type": "execute_result"
    }
   ],
   "source": [
    "using WGLMakie, AlgebraOfGraphics,  XLSX, DataFrames, Dates\n",
    "include(\"Common.jl\")"
   ]
  },
  {
   "cell_type": "code",
   "execution_count": 3,
   "metadata": {
    "tags": []
   },
   "outputs": [],
   "source": [
    "#Note: Enter the folder containing data here\n",
    "dataDir=\"../data\"\n",
    "marketDir=joinpath(dataDir, \"market\")\n",
    "(markets, marketNames)=readMarkets(marketDir);"
   ]
  },
  {
   "cell_type": "code",
   "execution_count": 4,
   "metadata": {},
   "outputs": [
    {
     "data": {
      "text/plain": [
       "plotTicker (generic function with 1 method)"
      ]
     },
     "execution_count": 4,
     "metadata": {},
     "output_type": "execute_result"
    }
   ],
   "source": [
    "\"Calculate the minumum closing value for each equity\"\n",
    "function getMinClose(gmarkets)\n",
    "  closeHL=combine(gmarkets, :Close => minimum)\n",
    "  minClose=Dict{String, Float64}()\n",
    "  [minClose[closeHL[r, :Ticker]] = closeHL[r, :Close_minimum]  for r in 1:size(closeHL, 1)]\n",
    "  minClose\n",
    "end\n",
    "\n",
    "\"Get the first and last date for the charts\"\n",
    "function getDateRange(market)\n",
    "  #TODO get actual first and last, don't assume positions\n",
    "  first=market[1,:timestamp]\n",
    "  last=market[end,:timestamp]\n",
    "  dateRange=first : Day(1) : last\n",
    "end\n",
    "\n",
    "function plotTicker(markets, marketNames, pos)\n",
    "  dateRange=getDateRange(markets[pos])\n",
    "  lines!(days, markets[pos].Close, label=marketNames[pos])\n",
    "end"
   ]
  },
  {
   "cell_type": "code",
   "execution_count": 5,
   "metadata": {},
   "outputs": [],
   "source": [
    "dateRange=getDateRange(markets)\n",
    "gmarkets=groupby(markets, :Ticker);\n",
    "minClose=getMinClose(gmarkets)\n",
    "normalize(x,y)= (x / minClose[y], minClose[y])\n",
    "transform!(markets, [:Close, :Ticker] => ByRow(normalize) => [:CloseNorm, :minClose]);\n"
   ]
  },
  {
   "cell_type": "code",
   "execution_count": null,
   "metadata": {
    "tags": []
   },
   "outputs": [],
   "source": [
    "\"Plot normalized values of investments\"\n",
    "plt=data(markets) * mapping(:timestamp, :CloseNorm, color=:Ticker) * visual(Lines)\n",
    "draw(plt)"
   ]
  },
  {
   "cell_type": "code",
   "execution_count": null,
   "metadata": {},
   "outputs": [],
   "source": [
    "\"Plot market prices of investments\"\n",
    "#plt=data(markets) * mapping(:timestamp, :Close, color=:Ticker) * visual(Lines)\n",
    "#draw(plt)"
   ]
  },
  {
   "cell_type": "code",
   "execution_count": 8,
   "metadata": {},
   "outputs": [
    {
     "ename": "LoadError",
     "evalue": "ArgumentError: idxs[1] has type NTuple{4, Pair{Int64, Symbol}}; only Integer, Symbol, or string values allowed when indexing by vector",
     "output_type": "error",
     "traceback": [
      "ArgumentError: idxs[1] has type NTuple{4, Pair{Int64, Symbol}}; only Integer, Symbol, or string values allowed when indexing by vector",
      "",
      "Stacktrace:",
      " [1] getindex",
      "   @ ~/.julia/packages/DataFrames/zqFGs/src/other/index.jl:271 [inlined]",
      " [2] manipulate(df::DataFrame, c::Vector{NTuple{4, Pair{Int64, Symbol}}}; copycols::Bool, keeprows::Bool, renamecols::Bool)",
      "   @ DataFrames ~/.julia/packages/DataFrames/zqFGs/src/abstractdataframe/selection.jl:1680",
      " [3] #select#492",
      "   @ ~/.julia/packages/DataFrames/zqFGs/src/abstractdataframe/selection.jl:1171 [inlined]",
      " [4] select",
      "   @ ~/.julia/packages/DataFrames/zqFGs/src/abstractdataframe/selection.jl:1171 [inlined]",
      " [5] readHoldings(holdingsFile::String, nameMap::NTuple{4, Pair{Int64, Symbol}}, first_row::Int64)",
      "   @ Main ~/dev/projects/JPPF.jl/src/Common.jl:64",
      " [6] top-level scope",
      "   @ In[8]:4",
      " [7] eval",
      "   @ ./boot.jl:373 [inlined]",
      " [8] include_string(mapexpr::typeof(REPL.softscope), mod::Module, code::String, filename::String)",
      "   @ Base ./loading.jl:1196"
     ]
    }
   ],
   "source": [
    "holdingsFile=joinpath(dataDir, \"Accounts_HistoryFidelity1.xlsx\")\n",
    "#nameMap=(date=1, symbol=4, quantity=7, price=8)\n",
    "nameMap=(1=>:date, 4=>:symbol, 7=>:quantity, 8=>:price)\n",
    "rh=readHoldings(holdingsFile, nameMap, 3)"
   ]
  }
 ],
 "metadata": {
  "kernelspec": {
   "display_name": "Julia 1.7.3",
   "language": "julia",
   "name": "julia-1.7"
  },
  "language_info": {
   "file_extension": ".jl",
   "mimetype": "application/julia",
   "name": "julia",
   "version": "1.7.3"
  },
  "vscode": {
   "interpreter": {
    "hash": "31f2aee4e71d21fbe5cf8b01ff0e069b9275f58929596ceb00d14d90e3e16cd6"
   }
  }
 },
 "nbformat": 4,
 "nbformat_minor": 4
}
