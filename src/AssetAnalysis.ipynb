{
 "cells": [
  {
   "cell_type": "markdown",
   "metadata": {},
   "source": [
    "# Asset Analysis\n",
    "Developed by Steve Kuhlman"
   ]
  },
  {
   "cell_type": "code",
   "execution_count": 1,
   "metadata": {},
   "outputs": [],
   "source": [
    "using WGLMakie, AlgebraOfGraphics,  XLSX, DataFrames, Dates"
   ]
  },
  {
   "cell_type": "code",
   "execution_count": 4,
   "metadata": {},
   "outputs": [
    {
     "data": {
      "text/plain": [
       "readMarkets (generic function with 1 method)"
      ]
     },
     "execution_count": 4,
     "metadata": {},
     "output_type": "execute_result"
    }
   ],
   "source": [
    "function readMarket(marketFile)\n",
    "  mdf=DataFrame(XLSX.readtable(marketFile, 1)...);\n",
    "  mdf.Close=convert(Vector{Float64}, mdf.Close);    \n",
    "  mdf\n",
    "end\n",
    "\n",
    "stripXLSX(s)=split(s, \".\")[1]\n",
    "\n",
    "function readMarkets(dataDir)\n",
    "  marketFiles=readdir(dataDir)    \n",
    "  marketPaths=map(x -> joinpath(dataDir, x), marketFiles)\n",
    "  markets = map(readMarket, marketPaths) \n",
    "  marketArr = map(readMarket,  marketPaths)\n",
    "  markets=reduce(vcat, marketArr)\n",
    "  marketNames=map(stripXLSX, marketFiles)\n",
    "  (markets, marketNames)\n",
    "end"
   ]
  },
  {
   "cell_type": "code",
   "execution_count": 5,
   "metadata": {
    "tags": []
   },
   "outputs": [],
   "source": [
    "#Note: Enter the folder containing data here\n",
    "dataDir=\"../data/market\"\n",
    "(markets, marketNames)=readMarkets(dataDir);"
   ]
  },
  {
   "cell_type": "code",
   "execution_count": 8,
   "metadata": {},
   "outputs": [
    {
     "data": {
      "text/plain": [
       "plotTicker (generic function with 1 method)"
      ]
     },
     "execution_count": 8,
     "metadata": {},
     "output_type": "execute_result"
    }
   ],
   "source": [
    "\"Calculate the minumum closing value for each equity\"\n",
    "function getMinClose(gmarkets)\n",
    "  closeHL=combine(gmarkets, :Close => minimum)\n",
    "  minClose=Dict{String, Float64}()\n",
    "  [minClose[closeHL[r, :Ticker]] = closeHL[r, :Close_minimum]  for r in 1:size(closeHL, 1)]\n",
    "  minClose\n",
    "end\n",
    "\n",
    "function normalizeByStartPrice(gmarkets)\n",
    "  \n",
    "end\n",
    "\n",
    "\"Get the first and last date for the charts\"\n",
    "function getDateRange(market)\n",
    "  #TODO get actual first and last, don't assume positions\n",
    "  first=market[1,:timestamp]\n",
    "  last=market[end,:timestamp]\n",
    "  dateRange=first : Day(1) : last\n",
    "end\n",
    "\n",
    "function plotTicker(markets, marketNames, pos)\n",
    "  dateRange=getDateRange(markets[pos])\n",
    "  lines!(days, markets[pos].Close, label=marketNames[pos])\n",
    "end"
   ]
  },
  {
   "cell_type": "code",
   "execution_count": 19,
   "metadata": {},
   "outputs": [
    {
     "data": {
      "text/plain": [
       "Dict{String, Float64} with 5 entries:\n",
       "  \"JPM\"  => 113.43\n",
       "  \"MRNA\" => 109.18\n",
       "  \"AMD\"  => 73.09\n",
       "  \"INTC\" => 37.34\n",
       "  \"TM\"   => 140.41"
      ]
     },
     "execution_count": 19,
     "metadata": {},
     "output_type": "execute_result"
    }
   ],
   "source": [
    "closeHL=combine(gmarkets, :Close => minimum)\n",
    "minClose=Dict{String, Float64}()\n",
    "[minClose[closeHL[r, :Ticker]] = closeHL[r, :Close_minimum]  for r in 1:size(closeHL, 1)]\n",
    "minClose"
   ]
  },
  {
   "cell_type": "code",
   "execution_count": 14,
   "metadata": {},
   "outputs": [
    {
     "data": {
      "text/html": [
       "<p><b>GroupedDataFrame with 5 groups based on key: Ticker</b></p><p><i>First Group (367 rows): Ticker = &quot;AMD&quot;</i></p><div class=\"data-frame\"><table class=\"data-frame\"><thead><tr><th></th><th>timestamp</th><th>Open</th><th>High</th><th>Low</th><th>Close</th><th>AdjClose</th><th>Volume</th><th>Ticker</th></tr><tr><th></th><th title=\"Any\">Any</th><th title=\"Any\">Any</th><th title=\"Any\">Any</th><th title=\"Any\">Any</th><th title=\"Float64\">Float64</th><th title=\"Any\">Any</th><th title=\"Any\">Any</th><th title=\"Any\">Any</th></tr></thead><tbody><tr><th>1</th><td>2021-01-04</td><td>92.11</td><td>96.06</td><td>90.92</td><td>92.3</td><td>92.3</td><td>5.18026e7</td><td>AMD</td></tr><tr><th>2</th><td>2021-01-05</td><td>92.1</td><td>93.21</td><td>91.41</td><td>92.77</td><td>92.77</td><td>3.4208e7</td><td>AMD</td></tr><tr><th>3</th><td>2021-01-06</td><td>91.62</td><td>92.28</td><td>89.46</td><td>90.33</td><td>90.33</td><td>5.19117e7</td><td>AMD</td></tr><tr><th>4</th><td>2021-01-07</td><td>91.33</td><td>95.51</td><td>91.2</td><td>95.16</td><td>95.16</td><td>4.28972e7</td><td>AMD</td></tr><tr><th>5</th><td>2021-01-08</td><td>95.98</td><td>96.4</td><td>93.27</td><td>94.58</td><td>94.58</td><td>3.98164e7</td><td>AMD</td></tr><tr><th>6</th><td>2021-01-11</td><td>94.03</td><td>99.23</td><td>93.76</td><td>97.25</td><td>97.25</td><td>4.86002e7</td><td>AMD</td></tr><tr><th>7</th><td>2021-01-12</td><td>97.86</td><td>98.97</td><td>94.07</td><td>95.36</td><td>95.36</td><td>6.76723e7</td><td>AMD</td></tr><tr><th>8</th><td>2021-01-13</td><td>93.01</td><td>93.89</td><td>90.84</td><td>91.78</td><td>91.78</td><td>6.07129e7</td><td>AMD</td></tr><tr><th>9</th><td>2021-01-14</td><td>91.77</td><td>92.36</td><td>90.45</td><td>90.79</td><td>90.79</td><td>5.34082e7</td><td>AMD</td></tr><tr><th>10</th><td>2021-01-15</td><td>90.75</td><td>91.59</td><td>87.86</td><td>88.21</td><td>88.21</td><td>4.93403e7</td><td>AMD</td></tr><tr><th>11</th><td>2021-01-19</td><td>89.56</td><td>89.58</td><td>87.24</td><td>89.45</td><td>89.45</td><td>4.51151e7</td><td>AMD</td></tr><tr><th>12</th><td>2021-01-20</td><td>90.55</td><td>90.78</td><td>88.6</td><td>88.75</td><td>88.75</td><td>3.51858e7</td><td>AMD</td></tr><tr><th>13</th><td>2021-01-21</td><td>89.34</td><td>92.07</td><td>88.43</td><td>91.53</td><td>91.53</td><td>5.42219e7</td><td>AMD</td></tr><tr><th>14</th><td>2021-01-22</td><td>94.42</td><td>95.95</td><td>91.88</td><td>92.79</td><td>92.79</td><td>7.12947e7</td><td>AMD</td></tr><tr><th>15</th><td>2021-01-25</td><td>94.14</td><td>95.74</td><td>91.4</td><td>94.13</td><td>94.13</td><td>5.50869e7</td><td>AMD</td></tr><tr><th>16</th><td>2021-01-26</td><td>94.91</td><td>95.72</td><td>93.63</td><td>94.71</td><td>94.71</td><td>5.94491e7</td><td>AMD</td></tr><tr><th>17</th><td>2021-01-27</td><td>91.1</td><td>91.88</td><td>86.22</td><td>88.84</td><td>88.84</td><td>7.33412e7</td><td>AMD</td></tr><tr><th>18</th><td>2021-01-28</td><td>89.83</td><td>89.88</td><td>87.3</td><td>87.52</td><td>87.52</td><td>4.70484e7</td><td>AMD</td></tr><tr><th>19</th><td>2021-01-29</td><td>87.56</td><td>88.33</td><td>85.02</td><td>85.64</td><td>85.64</td><td>5.67358e7</td><td>AMD</td></tr><tr><th>20</th><td>2021-02-01</td><td>86.83</td><td>87.95</td><td>84.66</td><td>87.66</td><td>87.66</td><td>4.23593e7</td><td>AMD</td></tr><tr><th>21</th><td>2021-02-02</td><td>88.49</td><td>89.28</td><td>86.95</td><td>88.86</td><td>88.86</td><td>3.385e7</td><td>AMD</td></tr><tr><th>22</th><td>2021-02-03</td><td>88.6</td><td>89.48</td><td>87.34</td><td>87.89</td><td>87.89</td><td>3.23129e7</td><td>AMD</td></tr><tr><th>23</th><td>2021-02-04</td><td>88.22</td><td>88.6</td><td>87.06</td><td>87.84</td><td>87.84</td><td>3.07916e7</td><td>AMD</td></tr><tr><th>24</th><td>2021-02-05</td><td>88.15</td><td>88.36</td><td>86.88</td><td>87.9</td><td>87.9</td><td>3.02687e7</td><td>AMD</td></tr><tr><th>25</th><td>2021-02-08</td><td>88.31</td><td>91.99</td><td>87.98</td><td>91.47</td><td>91.47</td><td>4.76399e7</td><td>AMD</td></tr><tr><th>26</th><td>2021-02-09</td><td>91.39</td><td>93.3</td><td>90.55</td><td>90.91</td><td>90.91</td><td>3.75964e7</td><td>AMD</td></tr><tr><th>27</th><td>2021-02-10</td><td>91.5</td><td>93.27</td><td>90.46</td><td>92.35</td><td>92.35</td><td>4.24413e7</td><td>AMD</td></tr><tr><th>28</th><td>2021-02-11</td><td>92.9</td><td>93.65</td><td>91.33</td><td>92.66</td><td>92.66</td><td>3.5571e7</td><td>AMD</td></tr><tr><th>29</th><td>2021-02-12</td><td>92.75</td><td>94.22</td><td>91.9</td><td>93.77</td><td>93.77</td><td>3.85384e7</td><td>AMD</td></tr><tr><th>30</th><td>2021-02-16</td><td>93.9</td><td>94.0</td><td>90.75</td><td>91.46</td><td>91.46</td><td>3.51059e7</td><td>AMD</td></tr><tr><th>&vellip;</th><td>&vellip;</td><td>&vellip;</td><td>&vellip;</td><td>&vellip;</td><td>&vellip;</td><td>&vellip;</td><td>&vellip;</td><td>&vellip;</td></tr></tbody></table></div><p>&vellip;</p><p><i>Last Group (367 rows): Ticker = &quot;TM&quot;</i></p><div class=\"data-frame\"><table class=\"data-frame\"><thead><tr><th></th><th>timestamp</th><th>Open</th><th>High</th><th>Low</th><th>Close</th><th>AdjClose</th><th>Volume</th><th>Ticker</th></tr><tr><th></th><th title=\"Any\">Any</th><th title=\"Any\">Any</th><th title=\"Any\">Any</th><th title=\"Any\">Any</th><th title=\"Float64\">Float64</th><th title=\"Any\">Any</th><th title=\"Any\">Any</th><th title=\"Any\">Any</th></tr></thead><tbody><tr><th>1</th><td>2021-01-04</td><td>155.81</td><td>155.81</td><td>152.02</td><td>153.29</td><td>153.29</td><td>315600.0</td><td>TM</td></tr><tr><th>2</th><td>2021-01-05</td><td>151.91</td><td>153.4</td><td>151.75</td><td>153.4</td><td>153.4</td><td>231800.0</td><td>TM</td></tr><tr><th>3</th><td>2021-01-06</td><td>152.71</td><td>154.17</td><td>152.48</td><td>153.53</td><td>153.53</td><td>296100.0</td><td>TM</td></tr><tr><th>4</th><td>2021-01-07</td><td>151.66</td><td>152.7</td><td>151.51</td><td>152.67</td><td>152.67</td><td>345000.0</td><td>TM</td></tr><tr><th>5</th><td>2021-01-08</td><td>153.6</td><td>154.06</td><td>152.11</td><td>152.85</td><td>152.85</td><td>418100.0</td><td>TM</td></tr><tr><th>6</th><td>2021-01-11</td><td>153.2</td><td>154.21</td><td>151.82</td><td>153.39</td><td>153.39</td><td>335500.0</td><td>TM</td></tr><tr><th>7</th><td>2021-01-12</td><td>152.08</td><td>152.08</td><td>150.65</td><td>151.75</td><td>151.75</td><td>618700.0</td><td>TM</td></tr><tr><th>8</th><td>2021-01-13</td><td>150.88</td><td>151.0</td><td>150.03</td><td>150.65</td><td>150.65</td><td>387500.0</td><td>TM</td></tr><tr><th>9</th><td>2021-01-14</td><td>151.48</td><td>152.27</td><td>151.23</td><td>151.34</td><td>151.34</td><td>314900.0</td><td>TM</td></tr><tr><th>10</th><td>2021-01-15</td><td>148.66</td><td>149.15</td><td>147.39</td><td>148.41</td><td>148.41</td><td>390600.0</td><td>TM</td></tr><tr><th>11</th><td>2021-01-19</td><td>148.45</td><td>148.74</td><td>147.45</td><td>148.13</td><td>148.13</td><td>368800.0</td><td>TM</td></tr><tr><th>12</th><td>2021-01-20</td><td>148.73</td><td>150.04</td><td>148.16</td><td>149.98</td><td>149.98</td><td>256000.0</td><td>TM</td></tr><tr><th>13</th><td>2021-01-21</td><td>151.23</td><td>152.71</td><td>150.4</td><td>151.34</td><td>151.34</td><td>469100.0</td><td>TM</td></tr><tr><th>14</th><td>2021-01-22</td><td>148.2</td><td>148.59</td><td>147.61</td><td>147.95</td><td>147.95</td><td>393400.0</td><td>TM</td></tr><tr><th>15</th><td>2021-01-25</td><td>147.95</td><td>147.95</td><td>145.25</td><td>146.72</td><td>146.72</td><td>369500.0</td><td>TM</td></tr><tr><th>16</th><td>2021-01-26</td><td>146.0</td><td>146.51</td><td>145.55</td><td>145.98</td><td>145.98</td><td>285800.0</td><td>TM</td></tr><tr><th>17</th><td>2021-01-27</td><td>144.69</td><td>144.9</td><td>142.24</td><td>142.64</td><td>142.64</td><td>407500.0</td><td>TM</td></tr><tr><th>18</th><td>2021-01-28</td><td>142.82</td><td>143.99</td><td>142.35</td><td>143.3</td><td>143.3</td><td>275100.0</td><td>TM</td></tr><tr><th>19</th><td>2021-01-29</td><td>142.19</td><td>142.19</td><td>140.04</td><td>140.52</td><td>140.52</td><td>342600.0</td><td>TM</td></tr><tr><th>20</th><td>2021-02-01</td><td>140.16</td><td>140.73</td><td>139.29</td><td>140.41</td><td>140.41</td><td>362900.0</td><td>TM</td></tr><tr><th>21</th><td>2021-02-02</td><td>142.66</td><td>143.37</td><td>141.72</td><td>143.12</td><td>143.12</td><td>447900.0</td><td>TM</td></tr><tr><th>22</th><td>2021-02-03</td><td>147.31</td><td>148.56</td><td>146.85</td><td>148.07</td><td>148.07</td><td>462000.0</td><td>TM</td></tr><tr><th>23</th><td>2021-02-04</td><td>148.21</td><td>148.88</td><td>147.5</td><td>148.02</td><td>148.02</td><td>250800.0</td><td>TM</td></tr><tr><th>24</th><td>2021-02-05</td><td>149.97</td><td>151.18</td><td>149.26</td><td>150.86</td><td>150.86</td><td>329800.0</td><td>TM</td></tr><tr><th>25</th><td>2021-02-08</td><td>152.29</td><td>152.97</td><td>152.18</td><td>152.93</td><td>152.93</td><td>309400.0</td><td>TM</td></tr><tr><th>26</th><td>2021-02-09</td><td>153.43</td><td>154.41</td><td>152.86</td><td>154.0</td><td>154.0</td><td>326800.0</td><td>TM</td></tr><tr><th>27</th><td>2021-02-10</td><td>156.0</td><td>163.37</td><td>155.61</td><td>161.56</td><td>161.56</td><td>1.4155e6</td><td>TM</td></tr><tr><th>28</th><td>2021-02-11</td><td>162.59</td><td>162.59</td><td>158.25</td><td>158.94</td><td>158.94</td><td>466600.0</td><td>TM</td></tr><tr><th>29</th><td>2021-02-12</td><td>159.66</td><td>161.31</td><td>159.66</td><td>160.49</td><td>160.49</td><td>418000.0</td><td>TM</td></tr><tr><th>30</th><td>2021-02-16</td><td>158.7</td><td>159.26</td><td>156.17</td><td>156.48</td><td>156.48</td><td>468500.0</td><td>TM</td></tr><tr><th>&vellip;</th><td>&vellip;</td><td>&vellip;</td><td>&vellip;</td><td>&vellip;</td><td>&vellip;</td><td>&vellip;</td><td>&vellip;</td><td>&vellip;</td></tr></tbody></table></div>"
      ],
      "text/latex": [
       "GroupedDataFrame with 5 groups based on key: Ticker\n",
       "\n",
       "First Group (367 rows): Ticker = \"AMD\"\n",
       "\n",
       "\\begin{tabular}{r|cccccccc}\n",
       "\t& timestamp & Open & High & Low & Close & AdjClose & Volume & Ticker\\\\\n",
       "\t\\hline\n",
       "\t& Any & Any & Any & Any & Float64 & Any & Any & Any\\\\\n",
       "\t\\hline\n",
       "\t1 & 2021-01-04 & 92.11 & 96.06 & 90.92 & 92.3 & 92.3 & 5.18026e7 & AMD \\\\\n",
       "\t2 & 2021-01-05 & 92.1 & 93.21 & 91.41 & 92.77 & 92.77 & 3.4208e7 & AMD \\\\\n",
       "\t3 & 2021-01-06 & 91.62 & 92.28 & 89.46 & 90.33 & 90.33 & 5.19117e7 & AMD \\\\\n",
       "\t4 & 2021-01-07 & 91.33 & 95.51 & 91.2 & 95.16 & 95.16 & 4.28972e7 & AMD \\\\\n",
       "\t5 & 2021-01-08 & 95.98 & 96.4 & 93.27 & 94.58 & 94.58 & 3.98164e7 & AMD \\\\\n",
       "\t6 & 2021-01-11 & 94.03 & 99.23 & 93.76 & 97.25 & 97.25 & 4.86002e7 & AMD \\\\\n",
       "\t7 & 2021-01-12 & 97.86 & 98.97 & 94.07 & 95.36 & 95.36 & 6.76723e7 & AMD \\\\\n",
       "\t8 & 2021-01-13 & 93.01 & 93.89 & 90.84 & 91.78 & 91.78 & 6.07129e7 & AMD \\\\\n",
       "\t9 & 2021-01-14 & 91.77 & 92.36 & 90.45 & 90.79 & 90.79 & 5.34082e7 & AMD \\\\\n",
       "\t10 & 2021-01-15 & 90.75 & 91.59 & 87.86 & 88.21 & 88.21 & 4.93403e7 & AMD \\\\\n",
       "\t11 & 2021-01-19 & 89.56 & 89.58 & 87.24 & 89.45 & 89.45 & 4.51151e7 & AMD \\\\\n",
       "\t12 & 2021-01-20 & 90.55 & 90.78 & 88.6 & 88.75 & 88.75 & 3.51858e7 & AMD \\\\\n",
       "\t13 & 2021-01-21 & 89.34 & 92.07 & 88.43 & 91.53 & 91.53 & 5.42219e7 & AMD \\\\\n",
       "\t14 & 2021-01-22 & 94.42 & 95.95 & 91.88 & 92.79 & 92.79 & 7.12947e7 & AMD \\\\\n",
       "\t15 & 2021-01-25 & 94.14 & 95.74 & 91.4 & 94.13 & 94.13 & 5.50869e7 & AMD \\\\\n",
       "\t16 & 2021-01-26 & 94.91 & 95.72 & 93.63 & 94.71 & 94.71 & 5.94491e7 & AMD \\\\\n",
       "\t17 & 2021-01-27 & 91.1 & 91.88 & 86.22 & 88.84 & 88.84 & 7.33412e7 & AMD \\\\\n",
       "\t18 & 2021-01-28 & 89.83 & 89.88 & 87.3 & 87.52 & 87.52 & 4.70484e7 & AMD \\\\\n",
       "\t19 & 2021-01-29 & 87.56 & 88.33 & 85.02 & 85.64 & 85.64 & 5.67358e7 & AMD \\\\\n",
       "\t20 & 2021-02-01 & 86.83 & 87.95 & 84.66 & 87.66 & 87.66 & 4.23593e7 & AMD \\\\\n",
       "\t21 & 2021-02-02 & 88.49 & 89.28 & 86.95 & 88.86 & 88.86 & 3.385e7 & AMD \\\\\n",
       "\t22 & 2021-02-03 & 88.6 & 89.48 & 87.34 & 87.89 & 87.89 & 3.23129e7 & AMD \\\\\n",
       "\t23 & 2021-02-04 & 88.22 & 88.6 & 87.06 & 87.84 & 87.84 & 3.07916e7 & AMD \\\\\n",
       "\t24 & 2021-02-05 & 88.15 & 88.36 & 86.88 & 87.9 & 87.9 & 3.02687e7 & AMD \\\\\n",
       "\t25 & 2021-02-08 & 88.31 & 91.99 & 87.98 & 91.47 & 91.47 & 4.76399e7 & AMD \\\\\n",
       "\t26 & 2021-02-09 & 91.39 & 93.3 & 90.55 & 90.91 & 90.91 & 3.75964e7 & AMD \\\\\n",
       "\t27 & 2021-02-10 & 91.5 & 93.27 & 90.46 & 92.35 & 92.35 & 4.24413e7 & AMD \\\\\n",
       "\t28 & 2021-02-11 & 92.9 & 93.65 & 91.33 & 92.66 & 92.66 & 3.5571e7 & AMD \\\\\n",
       "\t29 & 2021-02-12 & 92.75 & 94.22 & 91.9 & 93.77 & 93.77 & 3.85384e7 & AMD \\\\\n",
       "\t30 & 2021-02-16 & 93.9 & 94.0 & 90.75 & 91.46 & 91.46 & 3.51059e7 & AMD \\\\\n",
       "\t$\\dots$ & $\\dots$ & $\\dots$ & $\\dots$ & $\\dots$ & $\\dots$ & $\\dots$ & $\\dots$ & $\\dots$ \\\\\n",
       "\\end{tabular}\n",
       "\n",
       "$\\dots$\n",
       "\n",
       "Last Group (367 rows): Ticker = \"TM\"\n",
       "\n",
       "\\begin{tabular}{r|cccccccc}\n",
       "\t& timestamp & Open & High & Low & Close & AdjClose & Volume & Ticker\\\\\n",
       "\t\\hline\n",
       "\t& Any & Any & Any & Any & Float64 & Any & Any & Any\\\\\n",
       "\t\\hline\n",
       "\t1 & 2021-01-04 & 155.81 & 155.81 & 152.02 & 153.29 & 153.29 & 315600.0 & TM \\\\\n",
       "\t2 & 2021-01-05 & 151.91 & 153.4 & 151.75 & 153.4 & 153.4 & 231800.0 & TM \\\\\n",
       "\t3 & 2021-01-06 & 152.71 & 154.17 & 152.48 & 153.53 & 153.53 & 296100.0 & TM \\\\\n",
       "\t4 & 2021-01-07 & 151.66 & 152.7 & 151.51 & 152.67 & 152.67 & 345000.0 & TM \\\\\n",
       "\t5 & 2021-01-08 & 153.6 & 154.06 & 152.11 & 152.85 & 152.85 & 418100.0 & TM \\\\\n",
       "\t6 & 2021-01-11 & 153.2 & 154.21 & 151.82 & 153.39 & 153.39 & 335500.0 & TM \\\\\n",
       "\t7 & 2021-01-12 & 152.08 & 152.08 & 150.65 & 151.75 & 151.75 & 618700.0 & TM \\\\\n",
       "\t8 & 2021-01-13 & 150.88 & 151.0 & 150.03 & 150.65 & 150.65 & 387500.0 & TM \\\\\n",
       "\t9 & 2021-01-14 & 151.48 & 152.27 & 151.23 & 151.34 & 151.34 & 314900.0 & TM \\\\\n",
       "\t10 & 2021-01-15 & 148.66 & 149.15 & 147.39 & 148.41 & 148.41 & 390600.0 & TM \\\\\n",
       "\t11 & 2021-01-19 & 148.45 & 148.74 & 147.45 & 148.13 & 148.13 & 368800.0 & TM \\\\\n",
       "\t12 & 2021-01-20 & 148.73 & 150.04 & 148.16 & 149.98 & 149.98 & 256000.0 & TM \\\\\n",
       "\t13 & 2021-01-21 & 151.23 & 152.71 & 150.4 & 151.34 & 151.34 & 469100.0 & TM \\\\\n",
       "\t14 & 2021-01-22 & 148.2 & 148.59 & 147.61 & 147.95 & 147.95 & 393400.0 & TM \\\\\n",
       "\t15 & 2021-01-25 & 147.95 & 147.95 & 145.25 & 146.72 & 146.72 & 369500.0 & TM \\\\\n",
       "\t16 & 2021-01-26 & 146.0 & 146.51 & 145.55 & 145.98 & 145.98 & 285800.0 & TM \\\\\n",
       "\t17 & 2021-01-27 & 144.69 & 144.9 & 142.24 & 142.64 & 142.64 & 407500.0 & TM \\\\\n",
       "\t18 & 2021-01-28 & 142.82 & 143.99 & 142.35 & 143.3 & 143.3 & 275100.0 & TM \\\\\n",
       "\t19 & 2021-01-29 & 142.19 & 142.19 & 140.04 & 140.52 & 140.52 & 342600.0 & TM \\\\\n",
       "\t20 & 2021-02-01 & 140.16 & 140.73 & 139.29 & 140.41 & 140.41 & 362900.0 & TM \\\\\n",
       "\t21 & 2021-02-02 & 142.66 & 143.37 & 141.72 & 143.12 & 143.12 & 447900.0 & TM \\\\\n",
       "\t22 & 2021-02-03 & 147.31 & 148.56 & 146.85 & 148.07 & 148.07 & 462000.0 & TM \\\\\n",
       "\t23 & 2021-02-04 & 148.21 & 148.88 & 147.5 & 148.02 & 148.02 & 250800.0 & TM \\\\\n",
       "\t24 & 2021-02-05 & 149.97 & 151.18 & 149.26 & 150.86 & 150.86 & 329800.0 & TM \\\\\n",
       "\t25 & 2021-02-08 & 152.29 & 152.97 & 152.18 & 152.93 & 152.93 & 309400.0 & TM \\\\\n",
       "\t26 & 2021-02-09 & 153.43 & 154.41 & 152.86 & 154.0 & 154.0 & 326800.0 & TM \\\\\n",
       "\t27 & 2021-02-10 & 156.0 & 163.37 & 155.61 & 161.56 & 161.56 & 1.4155e6 & TM \\\\\n",
       "\t28 & 2021-02-11 & 162.59 & 162.59 & 158.25 & 158.94 & 158.94 & 466600.0 & TM \\\\\n",
       "\t29 & 2021-02-12 & 159.66 & 161.31 & 159.66 & 160.49 & 160.49 & 418000.0 & TM \\\\\n",
       "\t30 & 2021-02-16 & 158.7 & 159.26 & 156.17 & 156.48 & 156.48 & 468500.0 & TM \\\\\n",
       "\t$\\dots$ & $\\dots$ & $\\dots$ & $\\dots$ & $\\dots$ & $\\dots$ & $\\dots$ & $\\dots$ & $\\dots$ \\\\\n",
       "\\end{tabular}\n"
      ],
      "text/plain": [
       "GroupedDataFrame with 5 groups based on key: Ticker\n",
       "First Group (367 rows): Ticker = \"AMD\"\n",
       "\u001b[1m Row \u001b[0m│\u001b[1m timestamp  \u001b[0m\u001b[1m Open   \u001b[0m\u001b[1m High   \u001b[0m\u001b[1m Low    \u001b[0m\u001b[1m Close   \u001b[0m\u001b[1m AdjClose \u001b[0m\u001b[1m Volume    \u001b[0m\u001b[1m Ticke\u001b[0m ⋯\n",
       "\u001b[1m     \u001b[0m│\u001b[90m Any        \u001b[0m\u001b[90m Any    \u001b[0m\u001b[90m Any    \u001b[0m\u001b[90m Any    \u001b[0m\u001b[90m Float64 \u001b[0m\u001b[90m Any      \u001b[0m\u001b[90m Any       \u001b[0m\u001b[90m Any  \u001b[0m ⋯\n",
       "─────┼──────────────────────────────────────────────────────────────────────────\n",
       "   1 │ 2021-01-04  92.11   96.06   90.92     92.3   92.3      5.18026e7  AMD   ⋯\n",
       "   2 │ 2021-01-05  92.1    93.21   91.41     92.77  92.77     3.4208e7   AMD\n",
       "   3 │ 2021-01-06  91.62   92.28   89.46     90.33  90.33     5.19117e7  AMD\n",
       "   4 │ 2021-01-07  91.33   95.51   91.2      95.16  95.16     4.28972e7  AMD\n",
       "   5 │ 2021-01-08  95.98   96.4    93.27     94.58  94.58     3.98164e7  AMD   ⋯\n",
       "   6 │ 2021-01-11  94.03   99.23   93.76     97.25  97.25     4.86002e7  AMD\n",
       "   7 │ 2021-01-12  97.86   98.97   94.07     95.36  95.36     6.76723e7  AMD\n",
       "   8 │ 2021-01-13  93.01   93.89   90.84     91.78  91.78     6.07129e7  AMD\n",
       "   9 │ 2021-01-14  91.77   92.36   90.45     90.79  90.79     5.34082e7  AMD   ⋯\n",
       "  10 │ 2021-01-15  90.75   91.59   87.86     88.21  88.21     4.93403e7  AMD\n",
       "  11 │ 2021-01-19  89.56   89.58   87.24     89.45  89.45     4.51151e7  AMD\n",
       "  ⋮  │     ⋮         ⋮       ⋮       ⋮        ⋮        ⋮          ⋮        ⋮   ⋱\n",
       " 357 │ 2022-06-02  100.78  109.5   100.78   108.59  108.59    1.20954e8  AMD\n",
       " 358 │ 2022-06-03  105.8   109.39  104.65   106.3   106.3     1.10802e8  AMD   ⋯\n",
       " 359 │ 2022-06-06  108.27  109.57  104.23   105.65  105.65    9.67269e7  AMD\n",
       " 360 │ 2022-06-07  104.24  106.24  102.61   105.28  105.28    7.90229e7  AMD\n",
       " 361 │ 2022-06-08  104.57  105.85  100.41   101.9   101.9     9.76419e7  AMD\n",
       " 362 │ 2022-06-09  101.57  103.94  98.74     98.8   98.8      9.5299e7   AMD   ⋯\n",
       " 363 │ 2022-06-10  98.82   99.93   94.25     94.82  94.82     1.02135e8  AMD\n",
       " 364 │ 2022-06-13  91.26   92.03   86.64     86.99  86.99     9.81488e7  AMD\n",
       " 365 │ 2022-06-14  87.41   88.3    85.82     86.99  86.99     8.40666e7  AMD\n",
       " 366 │ 2022-06-15  87.9    90.86   86.19     89.3   89.3      9.57748e7  AMD   ⋯\n",
       " 367 │ 2022-06-16  86.63   86.73   80.64     82.05  82.05     1.02433e8  AMD\n",
       "\u001b[36m                                                   1 column and 345 rows omitted\u001b[0m\n",
       "⋮\n",
       "Last Group (367 rows): Ticker = \"TM\"\n",
       "\u001b[1m Row \u001b[0m│\u001b[1m timestamp  \u001b[0m\u001b[1m Open   \u001b[0m\u001b[1m High   \u001b[0m\u001b[1m Low    \u001b[0m\u001b[1m Close   \u001b[0m\u001b[1m AdjClose \u001b[0m\u001b[1m Volume   \u001b[0m\u001b[1m Ticker\u001b[0m ⋯\n",
       "\u001b[1m     \u001b[0m│\u001b[90m Any        \u001b[0m\u001b[90m Any    \u001b[0m\u001b[90m Any    \u001b[0m\u001b[90m Any    \u001b[0m\u001b[90m Float64 \u001b[0m\u001b[90m Any      \u001b[0m\u001b[90m Any      \u001b[0m\u001b[90m Any   \u001b[0m ⋯\n",
       "─────┼──────────────────────────────────────────────────────────────────────────\n",
       "   1 │ 2021-01-04  155.81  155.81  152.02   153.29  153.29    315600.0  TM     ⋯\n",
       "   2 │ 2021-01-05  151.91  153.4   151.75   153.4   153.4     231800.0  TM\n",
       "   3 │ 2021-01-06  152.71  154.17  152.48   153.53  153.53    296100.0  TM\n",
       "   4 │ 2021-01-07  151.66  152.7   151.51   152.67  152.67    345000.0  TM\n",
       "   5 │ 2021-01-08  153.6   154.06  152.11   152.85  152.85    418100.0  TM     ⋯\n",
       "   6 │ 2021-01-11  153.2   154.21  151.82   153.39  153.39    335500.0  TM\n",
       "   7 │ 2021-01-12  152.08  152.08  150.65   151.75  151.75    618700.0  TM\n",
       "   8 │ 2021-01-13  150.88  151.0   150.03   150.65  150.65    387500.0  TM\n",
       "   9 │ 2021-01-14  151.48  152.27  151.23   151.34  151.34    314900.0  TM     ⋯\n",
       "  10 │ 2021-01-15  148.66  149.15  147.39   148.41  148.41    390600.0  TM\n",
       "  11 │ 2021-01-19  148.45  148.74  147.45   148.13  148.13    368800.0  TM\n",
       "  ⋮  │     ⋮         ⋮       ⋮       ⋮        ⋮        ⋮         ⋮        ⋮    ⋱\n",
       " 357 │ 2022-06-02  169.16  170.37  168.17   170.24  170.24    148300.0  TM\n",
       " 358 │ 2022-06-03  166.12  166.12  164.11   164.81  164.81    261800.0  TM     ⋯\n",
       " 359 │ 2022-06-06  167.28  167.41  165.32   165.58  165.58    157600.0  TM\n",
       " 360 │ 2022-06-07  164.81  166.42  164.68   166.25  166.25    192000.0  TM\n",
       " 361 │ 2022-06-08  166.45  166.68  164.99   165.35  165.35    179600.0  TM\n",
       " 362 │ 2022-06-09  166.03  166.99  164.51   164.51  164.51    126900.0  TM     ⋯\n",
       " 363 │ 2022-06-10  162.5   162.96  161.29   161.3   161.3     241400.0  TM\n",
       " 364 │ 2022-06-13  157.6   157.74  155.14   155.5   155.5     339400.0  TM\n",
       " 365 │ 2022-06-14  155.5   156.18  154.13   155.16  155.16    265900.0  TM\n",
       " 366 │ 2022-06-15  155.09  157.43  154.31   156.75  156.75    211000.0  TM     ⋯\n",
       " 367 │ 2022-06-16  156.44  156.7   153.52   154.46  154.46    461500.0  TM\n",
       "\u001b[36m                                                               345 rows omitted\u001b[0m"
      ]
     },
     "execution_count": 14,
     "metadata": {},
     "output_type": "execute_result"
    }
   ],
   "source": [
    "gmarkets=groupby(markets, :Ticker);"
   ]
  },
  {
   "cell_type": "code",
   "execution_count": 15,
   "metadata": {},
   "outputs": [
    {
     "ename": "LoadError",
     "evalue": "UndefVarError: minClose not defined",
     "output_type": "error",
     "traceback": [
      "UndefVarError: minClose not defined",
      "",
      "Stacktrace:",
      " [1] top-level scope",
      "   @ :0",
      " [2] eval",
      "   @ ./boot.jl:373 [inlined]",
      " [3] include_string(mapexpr::typeof(REPL.softscope), mod::Module, code::String, filename::String)",
      "   @ Base ./loading.jl:1196"
     ]
    }
   ],
   "source": [
    "#describe(get(gmarkets, (\"AMD\",), nothing))\n",
    "#marketNames\n",
    "#6 / minClose[\"AMD\"]\n",
    "#map(markets.CloseNorm .= markets.Close ./ minClose[markets.Ticker]"
   ]
  },
  {
   "cell_type": "code",
   "execution_count": 13,
   "metadata": {},
   "outputs": [
    {
     "ename": "LoadError",
     "evalue": "ArgumentError: column name :Ticker not found in the data frame",
     "output_type": "error",
     "traceback": [
      "ArgumentError: column name :Ticker not found in the data frame",
      "",
      "Stacktrace:",
      "  [1] lookupname",
      "    @ ~/.julia/packages/DataFrames/zqFGs/src/other/index.jl:392 [inlined]",
      "  [2] getindex",
      "    @ ~/.julia/packages/DataFrames/zqFGs/src/other/index.jl:401 [inlined]",
      "  [3] getindex",
      "    @ ~/.julia/packages/DataFrames/zqFGs/src/dataframe/dataframe.jl:490 [inlined]",
      "  [4] (::var\"#5#6\"{Dict{String, Float64}, DataFrame})(r::Int64)",
      "    @ Main ./none:0",
      "  [5] iterate",
      "    @ ./generator.jl:47 [inlined]",
      "  [6] collect(itr::Base.Generator{UnitRange{Int64}, var\"#5#6\"{Dict{String, Float64}, DataFrame}})",
      "    @ Base ./array.jl:724",
      "  [7] getMinClose(gmarkets::DataFrame)",
      "    @ Main ./In[8]:5",
      "  [8] top-level scope",
      "    @ In[13]:1",
      "  [9] eval",
      "    @ ./boot.jl:373 [inlined]",
      " [10] include_string(mapexpr::typeof(REPL.softscope), mod::Module, code::String, filename::String)",
      "    @ Base ./loading.jl:1196"
     ]
    }
   ],
   "source": [
    "getMinClose(gmarkets)"
   ]
  },
  {
   "cell_type": "code",
   "execution_count": null,
   "metadata": {
    "tags": []
   },
   "outputs": [],
   "source": [
    "dateRange=getDateRange(markets)\n",
    "gmarkets=groupby(markets, :Ticker);\n",
    "minClose=getMinClose(gmarkets)\n",
    "plotCount=[x for x in 1:size(marketNames,1)]\n",
    "gmarkets=groupby(markets, :Ticker);\n",
    "\n",
    "plt=data(markets) * mapping(:timestamp, :Close, color=:Ticker) * visual(Lines)\n",
    "draw(plt)\n"
   ]
  },
  {
   "cell_type": "code",
   "execution_count": null,
   "metadata": {},
   "outputs": [],
   "source": [
    "markets"
   ]
  }
 ],
 "metadata": {
  "kernelspec": {
   "display_name": "Julia 1.7.3",
   "language": "julia",
   "name": "julia-1.7"
  },
  "language_info": {
   "file_extension": ".jl",
   "mimetype": "application/julia",
   "name": "julia",
   "version": "1.7.3"
  },
  "vscode": {
   "interpreter": {
    "hash": "31f2aee4e71d21fbe5cf8b01ff0e069b9275f58929596ceb00d14d90e3e16cd6"
   }
  }
 },
 "nbformat": 4,
 "nbformat_minor": 4
}
