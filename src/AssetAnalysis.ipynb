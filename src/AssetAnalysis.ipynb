{
 "cells": [
  {
   "cell_type": "markdown",
   "metadata": {},
   "source": [
    "# Asset Analysis\n",
    "Developed by Steve Kuhlman"
   ]
  },
  {
   "cell_type": "code",
   "execution_count": 1,
   "metadata": {},
   "outputs": [],
   "source": [
    "using WGLMakie, AlgebraOfGraphics,  XLSX, DataFrames, Dates"
   ]
  },
  {
   "cell_type": "code",
   "execution_count": 2,
   "metadata": {},
   "outputs": [
    {
     "data": {
      "text/plain": [
       "readMarkets (generic function with 1 method)"
      ]
     },
     "execution_count": 2,
     "metadata": {},
     "output_type": "execute_result"
    }
   ],
   "source": [
    "function readMarket(marketFile)\n",
    "  mdf=DataFrame(XLSX.readtable(marketFile, 1)...);\n",
    "  mdf.Close=convert(Vector{Float64}, mdf.Close);    \n",
    "  mdf\n",
    "end\n",
    "\n",
    "stripXLSX(s)=split(s, \".\")[1]\n",
    "\n",
    "function readMarkets(dataDir)\n",
    "  marketFiles=readdir(dataDir)    \n",
    "  marketPaths=map(x -> joinpath(dataDir, x), marketFiles)\n",
    "  markets = map(readMarket, marketPaths) \n",
    "  marketArr = map(readMarket,  marketPaths)\n",
    "  markets=reduce(vcat, marketArr)\n",
    "  marketNames=map(stripXLSX, marketFiles)\n",
    "  (markets, marketNames)\n",
    "end"
   ]
  },
  {
   "cell_type": "code",
   "execution_count": 3,
   "metadata": {
    "tags": []
   },
   "outputs": [],
   "source": [
    "#Note: Enter the folder containing data here\n",
    "dataDir=\"../data/market\"\n",
    "(markets, marketNames)=readMarkets(dataDir);"
   ]
  },
  {
   "cell_type": "code",
   "execution_count": 4,
   "metadata": {},
   "outputs": [
    {
     "data": {
      "text/plain": [
       "plotTicker (generic function with 1 method)"
      ]
     },
     "execution_count": 4,
     "metadata": {},
     "output_type": "execute_result"
    }
   ],
   "source": [
    "\"Calculate the minumum closing value for each equity\"\n",
    "function getMinClose(gmarkets)\n",
    "  closeHL=combine(gmarkets, :Close => minimum)\n",
    "  minClose=Dict{String, Float64}()\n",
    "  [minClose[closeHL[r, :Ticker]] = closeHL[r, :Close_minimum]  for r in 1:size(closeHL, 1)]\n",
    "  minClose\n",
    "end\n",
    "\n",
    "\"Get the first and last date for the charts\"\n",
    "function getDateRange(market)\n",
    "  #TODO get actual first and last, don't assume positions\n",
    "  first=market[1,:timestamp]\n",
    "  last=market[end,:timestamp]\n",
    "  dateRange=first : Day(1) : last\n",
    "end\n",
    "\n",
    "function plotTicker(markets, marketNames, pos)\n",
    "  dateRange=getDateRange(markets[pos])\n",
    "  lines!(days, markets[pos].Close, label=marketNames[pos])\n",
    "end"
   ]
  },
  {
   "cell_type": "code",
   "execution_count": 10,
   "metadata": {},
   "outputs": [
    {
     "data": {
      "text/html": [
       "<div class=\"data-frame\"><p>1,835 rows × 10 columns (omitted printing of 1 columns)</p><table class=\"data-frame\"><thead><tr><th></th><th>timestamp</th><th>Open</th><th>High</th><th>Low</th><th>Close</th><th>AdjClose</th><th>Volume</th><th>Ticker</th><th>CloseNorm</th></tr><tr><th></th><th title=\"Any\">Any</th><th title=\"Any\">Any</th><th title=\"Any\">Any</th><th title=\"Any\">Any</th><th title=\"Float64\">Float64</th><th title=\"Any\">Any</th><th title=\"Any\">Any</th><th title=\"Any\">Any</th><th title=\"Float64\">Float64</th></tr></thead><tbody><tr><th>1</th><td>2021-01-04</td><td>92.11</td><td>96.06</td><td>90.92</td><td>92.3</td><td>92.3</td><td>5.18026e7</td><td>AMD</td><td>1.26283</td></tr><tr><th>2</th><td>2021-01-05</td><td>92.1</td><td>93.21</td><td>91.41</td><td>92.77</td><td>92.77</td><td>3.4208e7</td><td>AMD</td><td>1.26926</td></tr><tr><th>3</th><td>2021-01-06</td><td>91.62</td><td>92.28</td><td>89.46</td><td>90.33</td><td>90.33</td><td>5.19117e7</td><td>AMD</td><td>1.23587</td></tr><tr><th>4</th><td>2021-01-07</td><td>91.33</td><td>95.51</td><td>91.2</td><td>95.16</td><td>95.16</td><td>4.28972e7</td><td>AMD</td><td>1.30196</td></tr><tr><th>5</th><td>2021-01-08</td><td>95.98</td><td>96.4</td><td>93.27</td><td>94.58</td><td>94.58</td><td>3.98164e7</td><td>AMD</td><td>1.29402</td></tr><tr><th>6</th><td>2021-01-11</td><td>94.03</td><td>99.23</td><td>93.76</td><td>97.25</td><td>97.25</td><td>4.86002e7</td><td>AMD</td><td>1.33055</td></tr><tr><th>7</th><td>2021-01-12</td><td>97.86</td><td>98.97</td><td>94.07</td><td>95.36</td><td>95.36</td><td>6.76723e7</td><td>AMD</td><td>1.30469</td></tr><tr><th>8</th><td>2021-01-13</td><td>93.01</td><td>93.89</td><td>90.84</td><td>91.78</td><td>91.78</td><td>6.07129e7</td><td>AMD</td><td>1.25571</td></tr><tr><th>9</th><td>2021-01-14</td><td>91.77</td><td>92.36</td><td>90.45</td><td>90.79</td><td>90.79</td><td>5.34082e7</td><td>AMD</td><td>1.24217</td></tr><tr><th>10</th><td>2021-01-15</td><td>90.75</td><td>91.59</td><td>87.86</td><td>88.21</td><td>88.21</td><td>4.93403e7</td><td>AMD</td><td>1.20687</td></tr><tr><th>11</th><td>2021-01-19</td><td>89.56</td><td>89.58</td><td>87.24</td><td>89.45</td><td>89.45</td><td>4.51151e7</td><td>AMD</td><td>1.22383</td></tr><tr><th>12</th><td>2021-01-20</td><td>90.55</td><td>90.78</td><td>88.6</td><td>88.75</td><td>88.75</td><td>3.51858e7</td><td>AMD</td><td>1.21426</td></tr><tr><th>13</th><td>2021-01-21</td><td>89.34</td><td>92.07</td><td>88.43</td><td>91.53</td><td>91.53</td><td>5.42219e7</td><td>AMD</td><td>1.25229</td></tr><tr><th>14</th><td>2021-01-22</td><td>94.42</td><td>95.95</td><td>91.88</td><td>92.79</td><td>92.79</td><td>7.12947e7</td><td>AMD</td><td>1.26953</td></tr><tr><th>15</th><td>2021-01-25</td><td>94.14</td><td>95.74</td><td>91.4</td><td>94.13</td><td>94.13</td><td>5.50869e7</td><td>AMD</td><td>1.28786</td></tr><tr><th>16</th><td>2021-01-26</td><td>94.91</td><td>95.72</td><td>93.63</td><td>94.71</td><td>94.71</td><td>5.94491e7</td><td>AMD</td><td>1.2958</td></tr><tr><th>17</th><td>2021-01-27</td><td>91.1</td><td>91.88</td><td>86.22</td><td>88.84</td><td>88.84</td><td>7.33412e7</td><td>AMD</td><td>1.21549</td></tr><tr><th>18</th><td>2021-01-28</td><td>89.83</td><td>89.88</td><td>87.3</td><td>87.52</td><td>87.52</td><td>4.70484e7</td><td>AMD</td><td>1.19743</td></tr><tr><th>19</th><td>2021-01-29</td><td>87.56</td><td>88.33</td><td>85.02</td><td>85.64</td><td>85.64</td><td>5.67358e7</td><td>AMD</td><td>1.17171</td></tr><tr><th>20</th><td>2021-02-01</td><td>86.83</td><td>87.95</td><td>84.66</td><td>87.66</td><td>87.66</td><td>4.23593e7</td><td>AMD</td><td>1.19934</td></tr><tr><th>21</th><td>2021-02-02</td><td>88.49</td><td>89.28</td><td>86.95</td><td>88.86</td><td>88.86</td><td>3.385e7</td><td>AMD</td><td>1.21576</td></tr><tr><th>22</th><td>2021-02-03</td><td>88.6</td><td>89.48</td><td>87.34</td><td>87.89</td><td>87.89</td><td>3.23129e7</td><td>AMD</td><td>1.20249</td></tr><tr><th>23</th><td>2021-02-04</td><td>88.22</td><td>88.6</td><td>87.06</td><td>87.84</td><td>87.84</td><td>3.07916e7</td><td>AMD</td><td>1.20181</td></tr><tr><th>24</th><td>2021-02-05</td><td>88.15</td><td>88.36</td><td>86.88</td><td>87.9</td><td>87.9</td><td>3.02687e7</td><td>AMD</td><td>1.20263</td></tr><tr><th>25</th><td>2021-02-08</td><td>88.31</td><td>91.99</td><td>87.98</td><td>91.47</td><td>91.47</td><td>4.76399e7</td><td>AMD</td><td>1.25147</td></tr><tr><th>26</th><td>2021-02-09</td><td>91.39</td><td>93.3</td><td>90.55</td><td>90.91</td><td>90.91</td><td>3.75964e7</td><td>AMD</td><td>1.24381</td></tr><tr><th>27</th><td>2021-02-10</td><td>91.5</td><td>93.27</td><td>90.46</td><td>92.35</td><td>92.35</td><td>4.24413e7</td><td>AMD</td><td>1.26351</td></tr><tr><th>28</th><td>2021-02-11</td><td>92.9</td><td>93.65</td><td>91.33</td><td>92.66</td><td>92.66</td><td>3.5571e7</td><td>AMD</td><td>1.26775</td></tr><tr><th>29</th><td>2021-02-12</td><td>92.75</td><td>94.22</td><td>91.9</td><td>93.77</td><td>93.77</td><td>3.85384e7</td><td>AMD</td><td>1.28294</td></tr><tr><th>30</th><td>2021-02-16</td><td>93.9</td><td>94.0</td><td>90.75</td><td>91.46</td><td>91.46</td><td>3.51059e7</td><td>AMD</td><td>1.25133</td></tr><tr><th>&vellip;</th><td>&vellip;</td><td>&vellip;</td><td>&vellip;</td><td>&vellip;</td><td>&vellip;</td><td>&vellip;</td><td>&vellip;</td><td>&vellip;</td><td>&vellip;</td></tr></tbody></table></div>"
      ],
      "text/latex": [
       "\\begin{tabular}{r|cccccccccc}\n",
       "\t& timestamp & Open & High & Low & Close & AdjClose & Volume & Ticker & CloseNorm & \\\\\n",
       "\t\\hline\n",
       "\t& Any & Any & Any & Any & Float64 & Any & Any & Any & Float64 & \\\\\n",
       "\t\\hline\n",
       "\t1 & 2021-01-04 & 92.11 & 96.06 & 90.92 & 92.3 & 92.3 & 5.18026e7 & AMD & 1.26283 & $\\dots$ \\\\\n",
       "\t2 & 2021-01-05 & 92.1 & 93.21 & 91.41 & 92.77 & 92.77 & 3.4208e7 & AMD & 1.26926 & $\\dots$ \\\\\n",
       "\t3 & 2021-01-06 & 91.62 & 92.28 & 89.46 & 90.33 & 90.33 & 5.19117e7 & AMD & 1.23587 & $\\dots$ \\\\\n",
       "\t4 & 2021-01-07 & 91.33 & 95.51 & 91.2 & 95.16 & 95.16 & 4.28972e7 & AMD & 1.30196 & $\\dots$ \\\\\n",
       "\t5 & 2021-01-08 & 95.98 & 96.4 & 93.27 & 94.58 & 94.58 & 3.98164e7 & AMD & 1.29402 & $\\dots$ \\\\\n",
       "\t6 & 2021-01-11 & 94.03 & 99.23 & 93.76 & 97.25 & 97.25 & 4.86002e7 & AMD & 1.33055 & $\\dots$ \\\\\n",
       "\t7 & 2021-01-12 & 97.86 & 98.97 & 94.07 & 95.36 & 95.36 & 6.76723e7 & AMD & 1.30469 & $\\dots$ \\\\\n",
       "\t8 & 2021-01-13 & 93.01 & 93.89 & 90.84 & 91.78 & 91.78 & 6.07129e7 & AMD & 1.25571 & $\\dots$ \\\\\n",
       "\t9 & 2021-01-14 & 91.77 & 92.36 & 90.45 & 90.79 & 90.79 & 5.34082e7 & AMD & 1.24217 & $\\dots$ \\\\\n",
       "\t10 & 2021-01-15 & 90.75 & 91.59 & 87.86 & 88.21 & 88.21 & 4.93403e7 & AMD & 1.20687 & $\\dots$ \\\\\n",
       "\t11 & 2021-01-19 & 89.56 & 89.58 & 87.24 & 89.45 & 89.45 & 4.51151e7 & AMD & 1.22383 & $\\dots$ \\\\\n",
       "\t12 & 2021-01-20 & 90.55 & 90.78 & 88.6 & 88.75 & 88.75 & 3.51858e7 & AMD & 1.21426 & $\\dots$ \\\\\n",
       "\t13 & 2021-01-21 & 89.34 & 92.07 & 88.43 & 91.53 & 91.53 & 5.42219e7 & AMD & 1.25229 & $\\dots$ \\\\\n",
       "\t14 & 2021-01-22 & 94.42 & 95.95 & 91.88 & 92.79 & 92.79 & 7.12947e7 & AMD & 1.26953 & $\\dots$ \\\\\n",
       "\t15 & 2021-01-25 & 94.14 & 95.74 & 91.4 & 94.13 & 94.13 & 5.50869e7 & AMD & 1.28786 & $\\dots$ \\\\\n",
       "\t16 & 2021-01-26 & 94.91 & 95.72 & 93.63 & 94.71 & 94.71 & 5.94491e7 & AMD & 1.2958 & $\\dots$ \\\\\n",
       "\t17 & 2021-01-27 & 91.1 & 91.88 & 86.22 & 88.84 & 88.84 & 7.33412e7 & AMD & 1.21549 & $\\dots$ \\\\\n",
       "\t18 & 2021-01-28 & 89.83 & 89.88 & 87.3 & 87.52 & 87.52 & 4.70484e7 & AMD & 1.19743 & $\\dots$ \\\\\n",
       "\t19 & 2021-01-29 & 87.56 & 88.33 & 85.02 & 85.64 & 85.64 & 5.67358e7 & AMD & 1.17171 & $\\dots$ \\\\\n",
       "\t20 & 2021-02-01 & 86.83 & 87.95 & 84.66 & 87.66 & 87.66 & 4.23593e7 & AMD & 1.19934 & $\\dots$ \\\\\n",
       "\t21 & 2021-02-02 & 88.49 & 89.28 & 86.95 & 88.86 & 88.86 & 3.385e7 & AMD & 1.21576 & $\\dots$ \\\\\n",
       "\t22 & 2021-02-03 & 88.6 & 89.48 & 87.34 & 87.89 & 87.89 & 3.23129e7 & AMD & 1.20249 & $\\dots$ \\\\\n",
       "\t23 & 2021-02-04 & 88.22 & 88.6 & 87.06 & 87.84 & 87.84 & 3.07916e7 & AMD & 1.20181 & $\\dots$ \\\\\n",
       "\t24 & 2021-02-05 & 88.15 & 88.36 & 86.88 & 87.9 & 87.9 & 3.02687e7 & AMD & 1.20263 & $\\dots$ \\\\\n",
       "\t25 & 2021-02-08 & 88.31 & 91.99 & 87.98 & 91.47 & 91.47 & 4.76399e7 & AMD & 1.25147 & $\\dots$ \\\\\n",
       "\t26 & 2021-02-09 & 91.39 & 93.3 & 90.55 & 90.91 & 90.91 & 3.75964e7 & AMD & 1.24381 & $\\dots$ \\\\\n",
       "\t27 & 2021-02-10 & 91.5 & 93.27 & 90.46 & 92.35 & 92.35 & 4.24413e7 & AMD & 1.26351 & $\\dots$ \\\\\n",
       "\t28 & 2021-02-11 & 92.9 & 93.65 & 91.33 & 92.66 & 92.66 & 3.5571e7 & AMD & 1.26775 & $\\dots$ \\\\\n",
       "\t29 & 2021-02-12 & 92.75 & 94.22 & 91.9 & 93.77 & 93.77 & 3.85384e7 & AMD & 1.28294 & $\\dots$ \\\\\n",
       "\t30 & 2021-02-16 & 93.9 & 94.0 & 90.75 & 91.46 & 91.46 & 3.51059e7 & AMD & 1.25133 & $\\dots$ \\\\\n",
       "\t$\\dots$ & $\\dots$ & $\\dots$ & $\\dots$ & $\\dots$ & $\\dots$ & $\\dots$ & $\\dots$ & $\\dots$ & $\\dots$ &  \\\\\n",
       "\\end{tabular}\n"
      ],
      "text/plain": [
       "\u001b[1m1835×10 DataFrame\u001b[0m\n",
       "\u001b[1m  Row \u001b[0m│\u001b[1m timestamp  \u001b[0m\u001b[1m Open   \u001b[0m\u001b[1m High   \u001b[0m\u001b[1m Low    \u001b[0m\u001b[1m Close   \u001b[0m\u001b[1m AdjClose \u001b[0m\u001b[1m Volume    \u001b[0m\u001b[1m Tick\u001b[0m ⋯\n",
       "\u001b[1m      \u001b[0m│\u001b[90m Any        \u001b[0m\u001b[90m Any    \u001b[0m\u001b[90m Any    \u001b[0m\u001b[90m Any    \u001b[0m\u001b[90m Float64 \u001b[0m\u001b[90m Any      \u001b[0m\u001b[90m Any       \u001b[0m\u001b[90m Any \u001b[0m ⋯\n",
       "──────┼─────────────────────────────────────────────────────────────────────────\n",
       "    1 │ 2021-01-04  92.11   96.06   90.92     92.3   92.3      5.18026e7  AMD  ⋯\n",
       "    2 │ 2021-01-05  92.1    93.21   91.41     92.77  92.77     3.4208e7   AMD\n",
       "    3 │ 2021-01-06  91.62   92.28   89.46     90.33  90.33     5.19117e7  AMD\n",
       "    4 │ 2021-01-07  91.33   95.51   91.2      95.16  95.16     4.28972e7  AMD\n",
       "    5 │ 2021-01-08  95.98   96.4    93.27     94.58  94.58     3.98164e7  AMD  ⋯\n",
       "    6 │ 2021-01-11  94.03   99.23   93.76     97.25  97.25     4.86002e7  AMD\n",
       "    7 │ 2021-01-12  97.86   98.97   94.07     95.36  95.36     6.76723e7  AMD\n",
       "    8 │ 2021-01-13  93.01   93.89   90.84     91.78  91.78     6.07129e7  AMD\n",
       "    9 │ 2021-01-14  91.77   92.36   90.45     90.79  90.79     5.34082e7  AMD  ⋯\n",
       "   10 │ 2021-01-15  90.75   91.59   87.86     88.21  88.21     4.93403e7  AMD\n",
       "   11 │ 2021-01-19  89.56   89.58   87.24     89.45  89.45     4.51151e7  AMD\n",
       "  ⋮   │     ⋮         ⋮       ⋮       ⋮        ⋮        ⋮          ⋮        ⋮  ⋱\n",
       " 1826 │ 2022-06-03  166.12  166.12  164.11   164.81  164.81    261800.0   TM\n",
       " 1827 │ 2022-06-06  167.28  167.41  165.32   165.58  165.58    157600.0   TM   ⋯\n",
       " 1828 │ 2022-06-07  164.81  166.42  164.68   166.25  166.25    192000.0   TM\n",
       " 1829 │ 2022-06-08  166.45  166.68  164.99   165.35  165.35    179600.0   TM\n",
       " 1830 │ 2022-06-09  166.03  166.99  164.51   164.51  164.51    126900.0   TM\n",
       " 1831 │ 2022-06-10  162.5   162.96  161.29   161.3   161.3     241400.0   TM   ⋯\n",
       " 1832 │ 2022-06-13  157.6   157.74  155.14   155.5   155.5     339400.0   TM\n",
       " 1833 │ 2022-06-14  155.5   156.18  154.13   155.16  155.16    265900.0   TM\n",
       " 1834 │ 2022-06-15  155.09  157.43  154.31   156.75  156.75    211000.0   TM\n",
       " 1835 │ 2022-06-16  156.44  156.7   153.52   154.46  154.46    461500.0   TM   ⋯\n",
       "\u001b[36m                                                 3 columns and 1814 rows omitted\u001b[0m"
      ]
     },
     "execution_count": 10,
     "metadata": {},
     "output_type": "execute_result"
    }
   ],
   "source": [
    "dateRange=getDateRange(markets)\n",
    "gmarkets=groupby(markets, :Ticker);\n",
    "minClose=getMinClose(gmarkets)\n",
    "normalize(x,y)= (x / minClose[y], minClose[y])\n",
    "transform!(markets, [:Close, :Ticker] => ByRow(normalize) => [:CloseNorm, :minClose]);\n"
   ]
  },
  {
   "cell_type": "code",
   "execution_count": 8,
   "metadata": {},
   "outputs": [
    {
     "data": {
      "text/plain": [
       "(1.330208891269416, 37.34)"
      ]
     },
     "execution_count": 8,
     "metadata": {},
     "output_type": "execute_result"
    }
   ],
   "source": [
    "normalize(49.67, \"INTC\")"
   ]
  },
  {
   "cell_type": "code",
   "execution_count": 11,
   "metadata": {
    "tags": []
   },
   "outputs": [
    {
     "data": {
      "text/html": [
       "<div data-jscall-id=\"2\"><script data-jscall-id=\"3\" type=\"text/javascript\">\n",
       "    function register_resize_handler(remote_origin) {\n",
       "        function resize_callback(event) {\n",
       "            if (event.origin !== remote_origin) {\n",
       "                return;\n",
       "            }\n",
       "            const uuid = event.data[0];\n",
       "            const width = event.data[1];\n",
       "            const height = event.data[2];\n",
       "            const iframe = document.getElementById('a77aa20f-28e3-46e3-a377-cfdb7b327b9a');\n",
       "            if (iframe) {\n",
       "                iframe.style.width = width + \"px\";\n",
       "                iframe.style.height = height + \"px\";\n",
       "            }\n",
       "        }\n",
       "        if (window.addEventListener) {\n",
       "            window.addEventListener(\"message\", resize_callback, false);\n",
       "        } else if (window.attachEvent) {\n",
       "            window.attachEvent(\"onmessage\", resize_callback);\n",
       "        }\n",
       "    }\n",
       "    register_resize_handler('http://127.0.0.1:9284')\n",
       "\n",
       "</script><iframe scrolling=\"no\" id=\"a77aa20f-28e3-46e3-a377-cfdb7b327b9a\" data-jscall-id=\"1\" src=\"http://127.0.0.1:9284/a77aa20f-28e3-46e3-a377-cfdb7b327b9a\" style=\"position: relative; display: block; width: 100%; height: 100%; padding: 0; overflow: hidden; border: none\"></iframe></div>\n"
      ]
     },
     "execution_count": 11,
     "metadata": {},
     "output_type": "execute_result"
    }
   ],
   "source": [
    "plt=data(markets) * mapping(:timestamp, :CloseNorm, color=:Ticker) * visual(Lines)\n",
    "draw(plt)"
   ]
  },
  {
   "cell_type": "code",
   "execution_count": null,
   "metadata": {},
   "outputs": [],
   "source": [
    "plt=data(markets) * mapping(:timestamp, :Close, color=:Ticker) * visual(Lines)\n",
    "draw(plt)"
   ]
  }
 ],
 "metadata": {
  "kernelspec": {
   "display_name": "Julia 1.7.3",
   "language": "julia",
   "name": "julia-1.7"
  },
  "language_info": {
   "file_extension": ".jl",
   "mimetype": "application/julia",
   "name": "julia",
   "version": "1.7.3"
  },
  "vscode": {
   "interpreter": {
    "hash": "31f2aee4e71d21fbe5cf8b01ff0e069b9275f58929596ceb00d14d90e3e16cd6"
   }
  }
 },
 "nbformat": 4,
 "nbformat_minor": 4
}
