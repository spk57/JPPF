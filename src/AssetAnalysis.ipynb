{
 "cells": [
  {
   "cell_type": "markdown",
   "metadata": {},
   "source": [
    "# Asset Analysis\n",
    "Developed by Steve Kuhlman"
   ]
  },
  {
   "cell_type": "code",
   "execution_count": 5,
   "metadata": {},
   "outputs": [],
   "source": [
    "using WGLMakie, AlgebraOfGraphics,  XLSX, DataFrames, Dates"
   ]
  },
  {
   "cell_type": "code",
   "execution_count": 6,
   "metadata": {},
   "outputs": [
    {
     "data": {
      "text/plain": [
       "readMarkets (generic function with 1 method)"
      ]
     },
     "metadata": {},
     "output_type": "display_data"
    }
   ],
   "source": [
    "#TODO Move functions to a file\n",
    "function readMarket(marketFile)\n",
    "  mdf=DataFrame(XLSX.readtable(marketFile, 1)...);\n",
    "  mdf.Close=convert(Vector{Float64}, mdf.Close);    \n",
    "  mdf\n",
    "end\n",
    "\n",
    "stripXLSX(s)=split(s, \".\")[1]\n",
    "\n",
    "function readMarkets(dataDir)\n",
    "  marketFiles=readdir(dataDir)    \n",
    "  marketPaths=map(x -> joinpath(dataDir, x), marketFiles)\n",
    "  markets = map(readMarket, marketPaths) \n",
    "  marketArr = map(readMarket,  marketPaths)\n",
    "  markets=reduce(vcat, marketArr)\n",
    "  marketNames=map(stripXLSX, marketFiles)\n",
    "  (markets, marketNames)\n",
    "end"
   ]
  },
  {
   "cell_type": "code",
   "execution_count": 8,
   "metadata": {
    "tags": []
   },
   "outputs": [],
   "source": [
    "#Note: Enter the folder containing data here\n",
    "dataDir=\"../data/market\"\n",
    "(markets, marketNames)=readMarkets(dataDir);"
   ]
  },
  {
   "cell_type": "code",
   "execution_count": 9,
   "metadata": {},
   "outputs": [
    {
     "data": {
      "text/plain": [
       "plotTicker (generic function with 1 method)"
      ]
     },
     "metadata": {},
     "output_type": "display_data"
    }
   ],
   "source": [
    "\"Calculate the minumum closing value for each equity\"\n",
    "function getMinClose(gmarkets)\n",
    "  closeHL=combine(gmarkets, :Close => minimum)\n",
    "  minClose=Dict{String, Float64}()\n",
    "  [minClose[closeHL[r, :Ticker]] = closeHL[r, :Close_minimum]  for r in 1:size(closeHL, 1)]\n",
    "  minClose\n",
    "end\n",
    "\n",
    "\"Get the first and last date for the charts\"\n",
    "function getDateRange(market)\n",
    "  #TODO get actual first and last, don't assume positions\n",
    "  first=market[1,:timestamp]\n",
    "  last=market[end,:timestamp]\n",
    "  dateRange=first : Day(1) : last\n",
    "end\n",
    "\n",
    "function plotTicker(markets, marketNames, pos)\n",
    "  dateRange=getDateRange(markets[pos])\n",
    "  lines!(days, markets[pos].Close, label=marketNames[pos])\n",
    "end"
   ]
  },
  {
   "cell_type": "code",
   "execution_count": 10,
   "metadata": {},
   "outputs": [],
   "source": [
    "dateRange=getDateRange(markets)\n",
    "gmarkets=groupby(markets, :Ticker);\n",
    "minClose=getMinClose(gmarkets)\n",
    "normalize(x,y)= (x / minClose[y], minClose[y])\n",
    "transform!(markets, [:Close, :Ticker] => ByRow(normalize) => [:CloseNorm, :minClose]);\n"
   ]
  },
  {
   "cell_type": "code",
   "execution_count": 11,
   "metadata": {
    "tags": []
   },
   "outputs": [
    {
     "name": "stderr",
     "output_type": "stream",
     "text": [
      "\n",
      "(process:24764): GLib-GIO-WARNING **: 15:48:50.420: Unexpectedly, UWP app `6760NGPDFLab.PDFX_1.3.41.0_x64__sbe4t8mqwq93a' (AUMId `6760NGPDFLab.PDFX_sbe4t8mqwq93a!App') supports 32 extensions but has no verbs\n"
     ]
    },
    {
     "data": {
      "text/html": [
       "<div data-jscall-id=\"2\"><script data-jscall-id=\"3\" type=\"text/javascript\">\n",
       "    function register_resize_handler(remote_origin) {\n",
       "        function resize_callback(event) {\n",
       "            if (event.origin !== remote_origin) {\n",
       "                return;\n",
       "            }\n",
       "            const uuid = event.data[0];\n",
       "            const width = event.data[1];\n",
       "            const height = event.data[2];\n",
       "            const iframe = document.getElementById('280c47d2-f916-424e-aa3e-34d3f88775dc');\n",
       "            if (iframe) {\n",
       "                iframe.style.width = width + \"px\";\n",
       "                iframe.style.height = height + \"px\";\n",
       "            }\n",
       "        }\n",
       "        if (window.addEventListener) {\n",
       "            window.addEventListener(\"message\", resize_callback, false);\n",
       "        } else if (window.attachEvent) {\n",
       "            window.attachEvent(\"onmessage\", resize_callback);\n",
       "        }\n",
       "    }\n",
       "    register_resize_handler('http://127.0.0.1:9284')\n",
       "\n",
       "</script><iframe scrolling=\"no\" id=\"280c47d2-f916-424e-aa3e-34d3f88775dc\" data-jscall-id=\"1\" src=\"http://127.0.0.1:9284/280c47d2-f916-424e-aa3e-34d3f88775dc\" style=\"position: relative; display: block; width: 100%; height: 100%; padding: 0; overflow: hidden; border: none\"></iframe></div>\n"
      ]
     },
     "metadata": {},
     "output_type": "display_data"
    }
   ],
   "source": [
    "\"Plot normalized values of investments\"\n",
    "plt=data(markets) * mapping(:timestamp, :CloseNorm, color=:Ticker) * visual(Lines)\n",
    "draw(plt)"
   ]
  },
  {
   "cell_type": "code",
   "execution_count": null,
   "metadata": {},
   "outputs": [],
   "source": [
    "\"Plot market prices of investments\"\n",
    "#plt=data(markets) * mapping(:timestamp, :Close, color=:Ticker) * visual(Lines)\n",
    "#draw(plt)"
   ]
  },
  {
   "cell_type": "code",
   "execution_count": null,
   "metadata": {},
   "outputs": [],
   "source": []
  }
 ],
 "metadata": {
  "kernelspec": {
   "display_name": "Julia 1.7.3",
   "language": "julia",
   "name": "julia-1.7"
  },
  "language_info": {
   "file_extension": ".jl",
   "mimetype": "application/julia",
   "name": "julia",
   "version": "1.7.3"
  },
  "vscode": {
   "interpreter": {
    "hash": "31f2aee4e71d21fbe5cf8b01ff0e069b9275f58929596ceb00d14d90e3e16cd6"
   }
  }
 },
 "nbformat": 4,
 "nbformat_minor": 4
}
