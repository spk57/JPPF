{
 "cells": [
  {
   "cell_type": "markdown",
   "metadata": {},
   "source": [
    "# Asset Analysis\n",
    "Developed by Steve Kuhlman"
   ]
  },
  {
   "cell_type": "code",
   "execution_count": 1,
   "metadata": {},
   "outputs": [
    {
     "data": {
      "text/plain": [
       "loadHoldings"
      ]
     },
     "execution_count": 1,
     "metadata": {},
     "output_type": "execute_result"
    }
   ],
   "source": [
    "using WGLMakie, AlgebraOfGraphics,  XLSX, DataFrames, Dates\n",
    "include(\"Common.jl\")\n",
    "include(\"updateHoldings.jl\")"
   ]
  },
  {
   "cell_type": "code",
   "execution_count": 2,
   "metadata": {
    "tags": []
   },
   "outputs": [],
   "source": [
    "#Note: Enter the folder containing data here\n",
    "dataDir=\"../data\"\n",
    "marketDir=joinpath(dataDir, \"market\")\n",
    "(markets, marketNames)=readMarkets(marketDir);"
   ]
  },
  {
   "cell_type": "code",
   "execution_count": 3,
   "metadata": {},
   "outputs": [],
   "source": [
    "dateRange=getDateRange(markets)\n",
    "gmarkets=groupby(markets, :Ticker);\n",
    "minClose=getMinClose(gmarkets)\n",
    "normalize(x,y)= (x / minClose[y], minClose[y])\n",
    "transform!(markets, [:Close, :Ticker] => ByRow(normalize) => [:CloseNorm, :minClose]);\n"
   ]
  },
  {
   "cell_type": "code",
   "execution_count": 4,
   "metadata": {
    "tags": []
   },
   "outputs": [
    {
     "data": {
      "text/html": [
       "<div data-jscall-id=\"2\"><script data-jscall-id=\"3\" type=\"text/javascript\">\n",
       "    function register_resize_handler(remote_origin) {\n",
       "        function resize_callback(event) {\n",
       "            if (event.origin !== remote_origin) {\n",
       "                return;\n",
       "            }\n",
       "            const uuid = event.data[0];\n",
       "            const width = event.data[1];\n",
       "            const height = event.data[2];\n",
       "            const iframe = document.getElementById('b9e693f1-a8b4-43b9-b52b-6f1c4fce2cb3');\n",
       "            if (iframe) {\n",
       "                iframe.style.width = width + \"px\";\n",
       "                iframe.style.height = height + \"px\";\n",
       "            }\n",
       "        }\n",
       "        if (window.addEventListener) {\n",
       "            window.addEventListener(\"message\", resize_callback, false);\n",
       "        } else if (window.attachEvent) {\n",
       "            window.attachEvent(\"onmessage\", resize_callback);\n",
       "        }\n",
       "    }\n",
       "    register_resize_handler('http://127.0.0.1:9284')\n",
       "\n",
       "</script><iframe scrolling=\"no\" id=\"b9e693f1-a8b4-43b9-b52b-6f1c4fce2cb3\" data-jscall-id=\"1\" src=\"http://127.0.0.1:9284/b9e693f1-a8b4-43b9-b52b-6f1c4fce2cb3\" style=\"position: relative; display: block; width: 100%; height: 100%; padding: 0; overflow: hidden; border: none\"></iframe></div>\n"
      ]
     },
     "execution_count": 4,
     "metadata": {},
     "output_type": "execute_result"
    }
   ],
   "source": [
    "\"Plot normalized values of investments\"\n",
    "plt=data(markets) * mapping(:timestamp, :CloseNorm, color=:Ticker) * visual(Lines)\n",
    "draw(plt)"
   ]
  },
  {
   "cell_type": "code",
   "execution_count": null,
   "metadata": {},
   "outputs": [],
   "source": [
    "\"Plot market prices of investments\"\n",
    "#plt=data(markets) * mapping(:timestamp, :Close, color=:Ticker) * visual(Lines)\n",
    "#draw(plt)"
   ]
  },
  {
   "cell_type": "code",
   "execution_count": 6,
   "metadata": {},
   "outputs": [
    {
     "ename": "LoadError",
     "evalue": "ArgumentError: reducing over an empty collection is not allowed",
     "output_type": "error",
     "traceback": [
      "ArgumentError: reducing over an empty collection is not allowed",
      "",
      "Stacktrace:",
      "  [1] _empty_reduce_error()",
      "    @ Base ./reduce.jl:301",
      "  [2] mapreduce_empty(f::Function, op::Base.BottomRF{typeof(min)}, T::Type)",
      "    @ Base ./reduce.jl:344",
      "  [3] reduce_empty(op::Base.MappingRF{typeof(length), Base.BottomRF{typeof(min)}}, #unused#::Type{Union{}})",
      "    @ Base ./reduce.jl:331",
      "  [4] reduce_empty_iter",
      "    @ ./reduce.jl:357 [inlined]",
      "  [5] reduce_empty_iter",
      "    @ ./reduce.jl:356 [inlined]",
      "  [6] foldl_impl(op::Base.MappingRF{typeof(length), Base.BottomRF{typeof(min)}}, nt::Base._InitialValue, itr::Tuple{})",
      "    @ Base ./reduce.jl:49",
      "  [7] mapfoldl_impl(f::typeof(length), op::typeof(min), nt::Base._InitialValue, itr::Tuple{})",
      "    @ Base ./reduce.jl:44",
      "  [8] mapfoldl(f::Function, op::Function, itr::Tuple{}; init::Base._InitialValue)",
      "    @ Base ./reduce.jl:162",
      "  [9] mapfoldl",
      "    @ ./reduce.jl:162 [inlined]",
      " [10] #mapreduce#248",
      "    @ ./reduce.jl:289 [inlined]",
      " [11] mapreduce(f::Function, op::Function, itr::Tuple{})",
      "    @ Base ./reduce.jl:289",
      " [12] map(::Function)",
      "    @ FillArrays ~/.julia/packages/FillArrays/5Arin/src/fillbroadcast.jl:6",
      " [13] loadHoldings(df::DataFrame, dateCol::Symbol, sym::Symbol, qtyCol::Symbol, priceCol::Symbol) (repeats 2 times)",
      "    @ Main ~/dev/projects/JPPF.jl/src/updateHoldings.jl:64",
      " [14] top-level scope",
      "    @ In[6]:3",
      " [15] eval",
      "    @ ./boot.jl:373 [inlined]",
      " [16] include_string(mapexpr::typeof(REPL.softscope), mod::Module, code::String, filename::String)",
      "    @ Base ./loading.jl:1196"
     ]
    }
   ],
   "source": [
    "holdingsFile=joinpath(dataDir, \"Accounts_HistoryFidelity1.xlsx\")\n",
    "rh=readHoldings(holdingsFile, 3);\n",
    "holdings=loadHoldings(rh);"
   ]
  }
 ],
 "metadata": {
  "kernelspec": {
   "display_name": "Julia 1.7.3",
   "language": "julia",
   "name": "julia-1.7"
  },
  "language_info": {
   "file_extension": ".jl",
   "mimetype": "application/julia",
   "name": "julia",
   "version": "1.7.3"
  },
  "vscode": {
   "interpreter": {
    "hash": "31f2aee4e71d21fbe5cf8b01ff0e069b9275f58929596ceb00d14d90e3e16cd6"
   }
  }
 },
 "nbformat": 4,
 "nbformat_minor": 4
}
