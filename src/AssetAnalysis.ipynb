{
 "cells": [
  {
   "cell_type": "markdown",
   "metadata": {},
   "source": [
    "# Asset Analysis\n",
    "Developed by Steve Kuhlman"
   ]
  },
  {
   "cell_type": "code",
   "execution_count": 17,
   "metadata": {},
   "outputs": [],
   "source": [
    "using WGLMakie, AlgebraOfGraphics,  XLSX, DataFrames, Dates"
   ]
  },
  {
   "cell_type": "code",
   "execution_count": null,
   "metadata": {},
   "outputs": [
    {
     "data": {
      "text/plain": [
       "readMarkets (generic function with 1 method)"
      ]
     },
     "execution_count": 7,
     "metadata": {},
     "output_type": "execute_result"
    }
   ],
   "source": [
    "function readMarket(marketFile)\n",
    "  mdf=DataFrame(XLSX.readtable(marketFile, 1)...);\n",
    "  mdf.Close=convert(Vector{Float64}, mdf.Close);    \n",
    "  mdf\n",
    "end\n",
    "\n",
    "function readMarkets(dataDir)\n",
    "  marketFiles=readdir(dataDir)    \n",
    "  marketPaths=map(x -> joinpath(dataDir, x), marketFiles)\n",
    "  markets = map(readMarket, marketPaths) \n",
    "#  markets = [readMarket(x) for x in marketPaths] \n",
    "  markets = map(readMarket,  marketPaths] \n",
    "(markets, marketFiles)\n",
    "end"
   ]
  },
  {
   "cell_type": "code",
   "execution_count": 8,
   "metadata": {
    "tags": []
   },
   "outputs": [],
   "source": [
    "#Note: Enter the folder containing data here\n",
    "dataDir=\"../data/market\"\n",
    "(markets, marketFiles)=readMarkets(dataDir);"
   ]
  },
  {
   "cell_type": "code",
   "execution_count": 15,
   "metadata": {},
   "outputs": [
    {
     "data": {
      "text/plain": [
       "plotTicker (generic function with 2 methods)"
      ]
     },
     "execution_count": 15,
     "metadata": {},
     "output_type": "execute_result"
    }
   ],
   "source": [
    "stripXLSX(s)=split(s, \".\")[1]\n",
    "\n",
    "function getDateRange(market)\n",
    "  first=market[1,:timestamp]\n",
    "  last=market[end,:timestamp]\n",
    "  dateRange=first : Day(1) : last\n",
    "end\n",
    "\n",
    "function plotTicker(markets, marketFiles, pos)\n",
    "  dateRange=getDateRange(markets[pos])\n",
    "  lines!(days, markets[pos].Close, label=stripXLSX(marketFiles[pos]))\n",
    "end"
   ]
  },
  {
   "cell_type": "code",
   "execution_count": 33,
   "metadata": {
    "tags": []
   },
   "outputs": [
    {
     "ename": "LoadError",
     "evalue": "type Nothing has no field timestamp",
     "output_type": "error",
     "traceback": [
      "type Nothing has no field timestamp",
      "",
      "Stacktrace:",
      "  [1] getproperty",
      "    @ ./Base.jl:42 [inlined]",
      "  [2] getcolumn(x::Nothing, nm::Symbol)",
      "    @ Tables ~/.julia/packages/Tables/PxO1m/src/Tables.jl:102",
      "  [3] select(data::Nothing, name::Symbol)",
      "    @ AlgebraOfGraphics ~/.julia/packages/AlgebraOfGraphics/AJE5M/src/algebra/select.jl:16",
      "  [4] getlabeledarray(layer::Layer, s::Symbol)",
      "    @ AlgebraOfGraphics ~/.julia/packages/AlgebraOfGraphics/AJE5M/src/algebra/processing.jl:71",
      "  [5] (::AlgebraOfGraphics.var\"#154#156\"{Layer})(v::Symbol)",
      "    @ AlgebraOfGraphics ~/.julia/packages/AlgebraOfGraphics/AJE5M/src/algebra/processing.jl:92",
      "  [6] iterate",
      "    @ ./generator.jl:47 [inlined]",
      "  [7] _collect(c::Vector{Any}, itr::Base.Generator{Vector{Any}, AlgebraOfGraphics.var\"#154#156\"{Layer}}, #unused#::Base.EltypeUnknown, isz::Base.HasShape{1})",
      "    @ Base ./array.jl:744",
      "  [8] collect_similar",
      "    @ ./array.jl:653 [inlined]",
      "  [9] map",
      "    @ ./abstractarray.jl:2867 [inlined]",
      " [10] process_mappings(layer::Layer)",
      "    @ AlgebraOfGraphics ~/.julia/packages/AlgebraOfGraphics/AJE5M/src/algebra/processing.jl:92",
      " [11] ProcessedLayer(layer::Layer)",
      "    @ AlgebraOfGraphics ~/.julia/packages/AlgebraOfGraphics/AJE5M/src/algebra/layer.jl:61",
      " [12] iterate",
      "    @ ./generator.jl:47 [inlined]",
      " [13] collect(itr::Base.Generator{AlgebraOfGraphics.Layers, Type{ProcessedLayer}})",
      "    @ Base ./array.jl:724",
      " [14] map",
      "    @ ./abstractarray.jl:2896 [inlined]",
      " [15] compute_axes_grid(s::Layer; axis::NamedTuple{(), Tuple{}}, palettes::NamedTuple{(), Tuple{}})",
      "    @ AlgebraOfGraphics ~/.julia/packages/AlgebraOfGraphics/AJE5M/src/algebra/layers.jl:97",
      " [16] compute_axes_grid(fig::Figure, s::Layer; axis::NamedTuple{(), Tuple{}}, palettes::NamedTuple{(), Tuple{}})",
      "    @ AlgebraOfGraphics ~/.julia/packages/AlgebraOfGraphics/AJE5M/src/algebra/layers.jl:84",
      " [17] #238",
      "    @ ~/.julia/packages/AlgebraOfGraphics/AJE5M/src/draw.jl:21 [inlined]",
      " [18] update",
      "    @ ~/.julia/packages/AlgebraOfGraphics/AJE5M/src/draw.jl:10 [inlined]",
      " [19] plot!(fig::Figure, s::Layer; axis::NamedTuple{(), Tuple{}}, palettes::NamedTuple{(), Tuple{}})",
      "    @ AlgebraOfGraphics ~/.julia/packages/AlgebraOfGraphics/AJE5M/src/draw.jl:21",
      " [20] (::AlgebraOfGraphics.var\"#242#243\"{NamedTuple{(), Tuple{}}, NamedTuple{(), Tuple{}}, NamedTuple{(), Tuple{}}, NamedTuple{(), Tuple{}}, NamedTuple{(), Tuple{}}, Layer})(f::Figure)",
      "    @ AlgebraOfGraphics ~/.julia/packages/AlgebraOfGraphics/AJE5M/src/draw.jl:46",
      " [21] update",
      "    @ ~/.julia/packages/AlgebraOfGraphics/AJE5M/src/draw.jl:10 [inlined]",
      " [22] #draw#241",
      "    @ ~/.julia/packages/AlgebraOfGraphics/AJE5M/src/draw.jl:45 [inlined]",
      " [23] draw(s::Layer)",
      "    @ AlgebraOfGraphics ~/.julia/packages/AlgebraOfGraphics/AJE5M/src/draw.jl:45",
      " [24] top-level scope",
      "    @ In[33]:6",
      " [25] eval",
      "    @ ./boot.jl:373 [inlined]",
      " [26] include_string(mapexpr::typeof(REPL.softscope), mod::Module, code::String, filename::String)",
      "    @ Base ./loading.jl:1196"
     ]
    }
   ],
   "source": [
    "dateRange=getDateRange(markets[1])\n",
    "plotCount=[x for x in 1:size(marketFiles,1)]\n",
    "\n",
    "#plt=data(markets[1]) * mapping(:timestamp, [:Close] .=> \"Close\" ) * visual(Lines)\n",
    "plt=mapping(:timestamp, [:Close] .=> \"Close\", color=marketFiles=>(t -> Ticker) ) * visual(Lines)\n",
    "draw(plt)\n",
    "#ax=f[1,1] = Axis(f, ylabel=\"Price\", xlabel=\"Date\", title=\"Price by Date\")\n",
    "#map(x-> plotTicker(markets, marketFiles, x), tickers)\n",
    "#axislegend()\n",
    "#current_figure()"
   ]
  },
  {
   "cell_type": "code",
   "execution_count": 31,
   "metadata": {},
   "outputs": [
    {
     "data": {
      "text/html": [
       "<div class=\"data-frame\"><p>367 rows × 8 columns</p><table class=\"data-frame\"><thead><tr><th></th><th>timestamp</th><th>Open</th><th>High</th><th>Low</th><th>Close</th><th>AdjClose</th><th>Volume</th><th>Ticker</th></tr><tr><th></th><th title=\"Any\">Any</th><th title=\"Any\">Any</th><th title=\"Any\">Any</th><th title=\"Any\">Any</th><th title=\"Float64\">Float64</th><th title=\"Any\">Any</th><th title=\"Any\">Any</th><th title=\"Any\">Any</th></tr></thead><tbody><tr><th>1</th><td>2021-01-04</td><td>92.11</td><td>96.06</td><td>90.92</td><td>92.3</td><td>92.3</td><td>5.18026e7</td><td>AMD</td></tr><tr><th>2</th><td>2021-01-05</td><td>92.1</td><td>93.21</td><td>91.41</td><td>92.77</td><td>92.77</td><td>3.4208e7</td><td>AMD</td></tr><tr><th>3</th><td>2021-01-06</td><td>91.62</td><td>92.28</td><td>89.46</td><td>90.33</td><td>90.33</td><td>5.19117e7</td><td>AMD</td></tr><tr><th>4</th><td>2021-01-07</td><td>91.33</td><td>95.51</td><td>91.2</td><td>95.16</td><td>95.16</td><td>4.28972e7</td><td>AMD</td></tr><tr><th>5</th><td>2021-01-08</td><td>95.98</td><td>96.4</td><td>93.27</td><td>94.58</td><td>94.58</td><td>3.98164e7</td><td>AMD</td></tr><tr><th>6</th><td>2021-01-11</td><td>94.03</td><td>99.23</td><td>93.76</td><td>97.25</td><td>97.25</td><td>4.86002e7</td><td>AMD</td></tr><tr><th>7</th><td>2021-01-12</td><td>97.86</td><td>98.97</td><td>94.07</td><td>95.36</td><td>95.36</td><td>6.76723e7</td><td>AMD</td></tr><tr><th>8</th><td>2021-01-13</td><td>93.01</td><td>93.89</td><td>90.84</td><td>91.78</td><td>91.78</td><td>6.07129e7</td><td>AMD</td></tr><tr><th>9</th><td>2021-01-14</td><td>91.77</td><td>92.36</td><td>90.45</td><td>90.79</td><td>90.79</td><td>5.34082e7</td><td>AMD</td></tr><tr><th>10</th><td>2021-01-15</td><td>90.75</td><td>91.59</td><td>87.86</td><td>88.21</td><td>88.21</td><td>4.93403e7</td><td>AMD</td></tr><tr><th>11</th><td>2021-01-19</td><td>89.56</td><td>89.58</td><td>87.24</td><td>89.45</td><td>89.45</td><td>4.51151e7</td><td>AMD</td></tr><tr><th>12</th><td>2021-01-20</td><td>90.55</td><td>90.78</td><td>88.6</td><td>88.75</td><td>88.75</td><td>3.51858e7</td><td>AMD</td></tr><tr><th>13</th><td>2021-01-21</td><td>89.34</td><td>92.07</td><td>88.43</td><td>91.53</td><td>91.53</td><td>5.42219e7</td><td>AMD</td></tr><tr><th>14</th><td>2021-01-22</td><td>94.42</td><td>95.95</td><td>91.88</td><td>92.79</td><td>92.79</td><td>7.12947e7</td><td>AMD</td></tr><tr><th>15</th><td>2021-01-25</td><td>94.14</td><td>95.74</td><td>91.4</td><td>94.13</td><td>94.13</td><td>5.50869e7</td><td>AMD</td></tr><tr><th>16</th><td>2021-01-26</td><td>94.91</td><td>95.72</td><td>93.63</td><td>94.71</td><td>94.71</td><td>5.94491e7</td><td>AMD</td></tr><tr><th>17</th><td>2021-01-27</td><td>91.1</td><td>91.88</td><td>86.22</td><td>88.84</td><td>88.84</td><td>7.33412e7</td><td>AMD</td></tr><tr><th>18</th><td>2021-01-28</td><td>89.83</td><td>89.88</td><td>87.3</td><td>87.52</td><td>87.52</td><td>4.70484e7</td><td>AMD</td></tr><tr><th>19</th><td>2021-01-29</td><td>87.56</td><td>88.33</td><td>85.02</td><td>85.64</td><td>85.64</td><td>5.67358e7</td><td>AMD</td></tr><tr><th>20</th><td>2021-02-01</td><td>86.83</td><td>87.95</td><td>84.66</td><td>87.66</td><td>87.66</td><td>4.23593e7</td><td>AMD</td></tr><tr><th>21</th><td>2021-02-02</td><td>88.49</td><td>89.28</td><td>86.95</td><td>88.86</td><td>88.86</td><td>3.385e7</td><td>AMD</td></tr><tr><th>22</th><td>2021-02-03</td><td>88.6</td><td>89.48</td><td>87.34</td><td>87.89</td><td>87.89</td><td>3.23129e7</td><td>AMD</td></tr><tr><th>23</th><td>2021-02-04</td><td>88.22</td><td>88.6</td><td>87.06</td><td>87.84</td><td>87.84</td><td>3.07916e7</td><td>AMD</td></tr><tr><th>24</th><td>2021-02-05</td><td>88.15</td><td>88.36</td><td>86.88</td><td>87.9</td><td>87.9</td><td>3.02687e7</td><td>AMD</td></tr><tr><th>25</th><td>2021-02-08</td><td>88.31</td><td>91.99</td><td>87.98</td><td>91.47</td><td>91.47</td><td>4.76399e7</td><td>AMD</td></tr><tr><th>26</th><td>2021-02-09</td><td>91.39</td><td>93.3</td><td>90.55</td><td>90.91</td><td>90.91</td><td>3.75964e7</td><td>AMD</td></tr><tr><th>27</th><td>2021-02-10</td><td>91.5</td><td>93.27</td><td>90.46</td><td>92.35</td><td>92.35</td><td>4.24413e7</td><td>AMD</td></tr><tr><th>28</th><td>2021-02-11</td><td>92.9</td><td>93.65</td><td>91.33</td><td>92.66</td><td>92.66</td><td>3.5571e7</td><td>AMD</td></tr><tr><th>29</th><td>2021-02-12</td><td>92.75</td><td>94.22</td><td>91.9</td><td>93.77</td><td>93.77</td><td>3.85384e7</td><td>AMD</td></tr><tr><th>30</th><td>2021-02-16</td><td>93.9</td><td>94.0</td><td>90.75</td><td>91.46</td><td>91.46</td><td>3.51059e7</td><td>AMD</td></tr><tr><th>&vellip;</th><td>&vellip;</td><td>&vellip;</td><td>&vellip;</td><td>&vellip;</td><td>&vellip;</td><td>&vellip;</td><td>&vellip;</td><td>&vellip;</td></tr></tbody></table></div>"
      ],
      "text/latex": [
       "\\begin{tabular}{r|cccccccc}\n",
       "\t& timestamp & Open & High & Low & Close & AdjClose & Volume & Ticker\\\\\n",
       "\t\\hline\n",
       "\t& Any & Any & Any & Any & Float64 & Any & Any & Any\\\\\n",
       "\t\\hline\n",
       "\t1 & 2021-01-04 & 92.11 & 96.06 & 90.92 & 92.3 & 92.3 & 5.18026e7 & AMD \\\\\n",
       "\t2 & 2021-01-05 & 92.1 & 93.21 & 91.41 & 92.77 & 92.77 & 3.4208e7 & AMD \\\\\n",
       "\t3 & 2021-01-06 & 91.62 & 92.28 & 89.46 & 90.33 & 90.33 & 5.19117e7 & AMD \\\\\n",
       "\t4 & 2021-01-07 & 91.33 & 95.51 & 91.2 & 95.16 & 95.16 & 4.28972e7 & AMD \\\\\n",
       "\t5 & 2021-01-08 & 95.98 & 96.4 & 93.27 & 94.58 & 94.58 & 3.98164e7 & AMD \\\\\n",
       "\t6 & 2021-01-11 & 94.03 & 99.23 & 93.76 & 97.25 & 97.25 & 4.86002e7 & AMD \\\\\n",
       "\t7 & 2021-01-12 & 97.86 & 98.97 & 94.07 & 95.36 & 95.36 & 6.76723e7 & AMD \\\\\n",
       "\t8 & 2021-01-13 & 93.01 & 93.89 & 90.84 & 91.78 & 91.78 & 6.07129e7 & AMD \\\\\n",
       "\t9 & 2021-01-14 & 91.77 & 92.36 & 90.45 & 90.79 & 90.79 & 5.34082e7 & AMD \\\\\n",
       "\t10 & 2021-01-15 & 90.75 & 91.59 & 87.86 & 88.21 & 88.21 & 4.93403e7 & AMD \\\\\n",
       "\t11 & 2021-01-19 & 89.56 & 89.58 & 87.24 & 89.45 & 89.45 & 4.51151e7 & AMD \\\\\n",
       "\t12 & 2021-01-20 & 90.55 & 90.78 & 88.6 & 88.75 & 88.75 & 3.51858e7 & AMD \\\\\n",
       "\t13 & 2021-01-21 & 89.34 & 92.07 & 88.43 & 91.53 & 91.53 & 5.42219e7 & AMD \\\\\n",
       "\t14 & 2021-01-22 & 94.42 & 95.95 & 91.88 & 92.79 & 92.79 & 7.12947e7 & AMD \\\\\n",
       "\t15 & 2021-01-25 & 94.14 & 95.74 & 91.4 & 94.13 & 94.13 & 5.50869e7 & AMD \\\\\n",
       "\t16 & 2021-01-26 & 94.91 & 95.72 & 93.63 & 94.71 & 94.71 & 5.94491e7 & AMD \\\\\n",
       "\t17 & 2021-01-27 & 91.1 & 91.88 & 86.22 & 88.84 & 88.84 & 7.33412e7 & AMD \\\\\n",
       "\t18 & 2021-01-28 & 89.83 & 89.88 & 87.3 & 87.52 & 87.52 & 4.70484e7 & AMD \\\\\n",
       "\t19 & 2021-01-29 & 87.56 & 88.33 & 85.02 & 85.64 & 85.64 & 5.67358e7 & AMD \\\\\n",
       "\t20 & 2021-02-01 & 86.83 & 87.95 & 84.66 & 87.66 & 87.66 & 4.23593e7 & AMD \\\\\n",
       "\t21 & 2021-02-02 & 88.49 & 89.28 & 86.95 & 88.86 & 88.86 & 3.385e7 & AMD \\\\\n",
       "\t22 & 2021-02-03 & 88.6 & 89.48 & 87.34 & 87.89 & 87.89 & 3.23129e7 & AMD \\\\\n",
       "\t23 & 2021-02-04 & 88.22 & 88.6 & 87.06 & 87.84 & 87.84 & 3.07916e7 & AMD \\\\\n",
       "\t24 & 2021-02-05 & 88.15 & 88.36 & 86.88 & 87.9 & 87.9 & 3.02687e7 & AMD \\\\\n",
       "\t25 & 2021-02-08 & 88.31 & 91.99 & 87.98 & 91.47 & 91.47 & 4.76399e7 & AMD \\\\\n",
       "\t26 & 2021-02-09 & 91.39 & 93.3 & 90.55 & 90.91 & 90.91 & 3.75964e7 & AMD \\\\\n",
       "\t27 & 2021-02-10 & 91.5 & 93.27 & 90.46 & 92.35 & 92.35 & 4.24413e7 & AMD \\\\\n",
       "\t28 & 2021-02-11 & 92.9 & 93.65 & 91.33 & 92.66 & 92.66 & 3.5571e7 & AMD \\\\\n",
       "\t29 & 2021-02-12 & 92.75 & 94.22 & 91.9 & 93.77 & 93.77 & 3.85384e7 & AMD \\\\\n",
       "\t30 & 2021-02-16 & 93.9 & 94.0 & 90.75 & 91.46 & 91.46 & 3.51059e7 & AMD \\\\\n",
       "\t$\\dots$ & $\\dots$ & $\\dots$ & $\\dots$ & $\\dots$ & $\\dots$ & $\\dots$ & $\\dots$ & $\\dots$ \\\\\n",
       "\\end{tabular}\n"
      ],
      "text/plain": [
       "\u001b[1m367×8 DataFrame\u001b[0m\n",
       "\u001b[1m Row \u001b[0m│\u001b[1m timestamp  \u001b[0m\u001b[1m Open   \u001b[0m\u001b[1m High   \u001b[0m\u001b[1m Low    \u001b[0m\u001b[1m Close   \u001b[0m\u001b[1m AdjClose \u001b[0m\u001b[1m Volume    \u001b[0m\u001b[1m Ticke\u001b[0m ⋯\n",
       "\u001b[1m     \u001b[0m│\u001b[90m Any        \u001b[0m\u001b[90m Any    \u001b[0m\u001b[90m Any    \u001b[0m\u001b[90m Any    \u001b[0m\u001b[90m Float64 \u001b[0m\u001b[90m Any      \u001b[0m\u001b[90m Any       \u001b[0m\u001b[90m Any  \u001b[0m ⋯\n",
       "─────┼──────────────────────────────────────────────────────────────────────────\n",
       "   1 │ 2021-01-04  92.11   96.06   90.92     92.3   92.3      5.18026e7  AMD   ⋯\n",
       "   2 │ 2021-01-05  92.1    93.21   91.41     92.77  92.77     3.4208e7   AMD\n",
       "   3 │ 2021-01-06  91.62   92.28   89.46     90.33  90.33     5.19117e7  AMD\n",
       "   4 │ 2021-01-07  91.33   95.51   91.2      95.16  95.16     4.28972e7  AMD\n",
       "   5 │ 2021-01-08  95.98   96.4    93.27     94.58  94.58     3.98164e7  AMD   ⋯\n",
       "   6 │ 2021-01-11  94.03   99.23   93.76     97.25  97.25     4.86002e7  AMD\n",
       "   7 │ 2021-01-12  97.86   98.97   94.07     95.36  95.36     6.76723e7  AMD\n",
       "   8 │ 2021-01-13  93.01   93.89   90.84     91.78  91.78     6.07129e7  AMD\n",
       "   9 │ 2021-01-14  91.77   92.36   90.45     90.79  90.79     5.34082e7  AMD   ⋯\n",
       "  10 │ 2021-01-15  90.75   91.59   87.86     88.21  88.21     4.93403e7  AMD\n",
       "  11 │ 2021-01-19  89.56   89.58   87.24     89.45  89.45     4.51151e7  AMD\n",
       "  ⋮  │     ⋮         ⋮       ⋮       ⋮        ⋮        ⋮          ⋮        ⋮   ⋱\n",
       " 358 │ 2022-06-03  105.8   109.39  104.65   106.3   106.3     1.10802e8  AMD\n",
       " 359 │ 2022-06-06  108.27  109.57  104.23   105.65  105.65    9.67269e7  AMD   ⋯\n",
       " 360 │ 2022-06-07  104.24  106.24  102.61   105.28  105.28    7.90229e7  AMD\n",
       " 361 │ 2022-06-08  104.57  105.85  100.41   101.9   101.9     9.76419e7  AMD\n",
       " 362 │ 2022-06-09  101.57  103.94  98.74     98.8   98.8      9.5299e7   AMD\n",
       " 363 │ 2022-06-10  98.82   99.93   94.25     94.82  94.82     1.02135e8  AMD   ⋯\n",
       " 364 │ 2022-06-13  91.26   92.03   86.64     86.99  86.99     9.81488e7  AMD\n",
       " 365 │ 2022-06-14  87.41   88.3    85.82     86.99  86.99     8.40666e7  AMD\n",
       " 366 │ 2022-06-15  87.9    90.86   86.19     89.3   89.3      9.57748e7  AMD\n",
       " 367 │ 2022-06-16  86.63   86.73   80.64     82.05  82.05     1.02433e8  AMD   ⋯\n",
       "\u001b[36m                                                   1 column and 346 rows omitted\u001b[0m"
      ]
     },
     "execution_count": 31,
     "metadata": {},
     "output_type": "execute_result"
    }
   ],
   "source": [
    "markets[1]"
   ]
  }
 ],
 "metadata": {
  "kernelspec": {
   "display_name": "Julia 1.7.3",
   "language": "julia",
   "name": "julia-1.7"
  },
  "language_info": {
   "file_extension": ".jl",
   "mimetype": "application/julia",
   "name": "julia",
   "version": "1.7.3"
  },
  "vscode": {
   "interpreter": {
    "hash": "31f2aee4e71d21fbe5cf8b01ff0e069b9275f58929596ceb00d14d90e3e16cd6"
   }
  }
 },
 "nbformat": 4,
 "nbformat_minor": 4
}
