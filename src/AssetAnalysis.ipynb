{
 "cells": [
  {
   "cell_type": "markdown",
   "metadata": {},
   "source": [
    "# Asset Analysis\n",
    "Developed by Steve Kuhlman"
   ]
  },
  {
   "cell_type": "code",
   "execution_count": 17,
   "metadata": {},
   "outputs": [],
   "source": [
    "using WGLMakie, AlgebraOfGraphics,  XLSX, DataFrames, Dates"
   ]
  },
  {
   "cell_type": "code",
   "execution_count": null,
   "metadata": {},
   "outputs": [
    {
     "data": {
      "text/plain": [
       "readMarkets (generic function with 1 method)"
      ]
     },
     "execution_count": 7,
     "metadata": {},
     "output_type": "execute_result"
    }
   ],
   "source": [
    "function readMarket(marketFile)\n",
    "  mdf=DataFrame(XLSX.readtable(marketFile, 1)...);\n",
    "  mdf.Close=convert(Vector{Float64}, mdf.Close);    \n",
    "  mdf\n",
    "end\n",
    "\n",
    "function readMarkets(dataDir)\n",
    "  marketFiles=readdir(dataDir)    \n",
    "  marketPaths=map(x -> joinpath(dataDir, x), marketFiles)\n",
    "  markets = map(readMarket, marketPaths) \n",
    "  markets = [readMarket(x) for x in marketPaths] \n",
    "  (markets, marketFiles)\n",
    "end"
   ]
  },
  {
   "cell_type": "code",
   "execution_count": 8,
   "metadata": {
    "tags": []
   },
   "outputs": [],
   "source": [
    "#Note: Enter the folder containing data here\n",
    "dataDir=\"../data/market\"\n",
    "(markets, marketFiles)=readMarkets(dataDir);"
   ]
  },
  {
   "cell_type": "code",
   "execution_count": 15,
   "metadata": {},
   "outputs": [
    {
     "data": {
      "text/plain": [
       "plotTicker (generic function with 2 methods)"
      ]
     },
     "execution_count": 15,
     "metadata": {},
     "output_type": "execute_result"
    }
   ],
   "source": [
    "stripXLSX(s)=split(s, \".\")[1]\n",
    "function plotTicker(markets, marketFiles, pos)\n",
    "  days=[x for x in 1:nrow(markets[pos])]\n",
    "  lines!(days, markets[pos].Close, label=stripXLSX(marketFiles[pos]))\n",
    "end"
   ]
  },
  {
   "cell_type": "code",
   "execution_count": 16,
   "metadata": {
    "tags": []
   },
   "outputs": [
    {
     "data": {
      "text/html": [
       "<div data-jscall-id=\"2\"><script data-jscall-id=\"3\" type=\"text/javascript\">\n",
       "    function register_resize_handler(remote_origin) {\n",
       "        function resize_callback(event) {\n",
       "            if (event.origin !== remote_origin) {\n",
       "                return;\n",
       "            }\n",
       "            const uuid = event.data[0];\n",
       "            const width = event.data[1];\n",
       "            const height = event.data[2];\n",
       "            const iframe = document.getElementById('946c3e6f-cc11-48e5-a838-3f52cfa4ac05');\n",
       "            if (iframe) {\n",
       "                iframe.style.width = width + \"px\";\n",
       "                iframe.style.height = height + \"px\";\n",
       "            }\n",
       "        }\n",
       "        if (window.addEventListener) {\n",
       "            window.addEventListener(\"message\", resize_callback, false);\n",
       "        } else if (window.attachEvent) {\n",
       "            window.attachEvent(\"onmessage\", resize_callback);\n",
       "        }\n",
       "    }\n",
       "    register_resize_handler('http://127.0.0.1:9284')\n",
       "\n",
       "</script><iframe scrolling=\"no\" id=\"946c3e6f-cc11-48e5-a838-3f52cfa4ac05\" data-jscall-id=\"1\" src=\"http://127.0.0.1:9284/946c3e6f-cc11-48e5-a838-3f52cfa4ac05\" style=\"position: relative; display: block; width: 100%; height: 100%; padding: 0; overflow: hidden; border: none\"></iframe></div>\n"
      ]
     },
     "execution_count": 16,
     "metadata": {},
     "output_type": "execute_result"
    }
   ],
   "source": [
    "f=Figure()\n",
    "ax=f[1,1] = Axis(f, ylabel=\"Price\", xlabel=\"Date\", title=\"Price by Date\")\n",
    "tickers=[x for x in 1:size(marketFiles,1)]\n",
    "map(x-> plotTicker(markets, marketFiles, x), tickers)\n",
    "axislegend()\n",
    "current_figure()"
   ]
  },
  {
   "cell_type": "code",
   "execution_count": null,
   "metadata": {},
   "outputs": [
    {
     "data": {
      "text/plain": [
       "5-element Vector{DataFrame}:\n",
       " \u001b[1m367×8 DataFrame\u001b[0m\n",
       "\u001b[1m Row \u001b[0m│\u001b[1m timestamp  \u001b[0m\u001b[1m Open   \u001b[0m\u001b[1m High   \u001b[0m\u001b[1m Low    \u001b[0m\u001b[1m Close   \u001b[0m\u001b[1m AdjClose \u001b[0m\u001b[1m Volume    \u001b[0m\u001b[1m Ticke\u001b[0m ⋯\n",
       "\u001b[1m     \u001b[0m│\u001b[90m Any        \u001b[0m\u001b[90m Any    \u001b[0m\u001b[90m Any    \u001b[0m\u001b[90m Any    \u001b[0m\u001b[90m Float64 \u001b[0m\u001b[90m Any      \u001b[0m\u001b[90m Any       \u001b[0m\u001b[90m Any  \u001b[0m ⋯\n",
       "─────┼──────────────────────────────────────────────────────────────────────────\n",
       "   1 │ 2021-01-04  92.11   96.06   90.92     92.3   92.3      5.18026e7  AMD   ⋯\n",
       "   2 │ 2021-01-05  92.1    93.21   91.41     92.77  92.77     3.4208e7   AMD\n",
       "   3 │ 2021-01-06  91.62   92.28   89.46     90.33  90.33     5.19117e7  AMD\n",
       "   4 │ 2021-01-07  91.33   95.51   91.2      95.16  95.16     4.28972e7  AMD\n",
       "   5 │ 2021-01-08  95.98   96.4    93.27     94.58  94.58     3.98164e7  AMD   ⋯\n",
       "   6 │ 2021-01-11  94.03   99.23   93.76     97.25  97.25     4.86002e7  AMD\n",
       "   7 │ 2021-01-12  97.86   98.97   94.07     95.36  95.36     6.76723e7  AMD\n",
       "   8 │ 2021-01-13  93.01   93.89   90.84     91.78  91.78     6.07129e7  AMD\n",
       "   9 │ 2021-01-14  91.77   92.36   90.45     90.79  90.79     5.34082e7  AMD   ⋯\n",
       "  10 │ 2021-01-15  90.75   91.59   87.86     88.21  88.21     4.93403e7  AMD\n",
       "  11 │ 2021-01-19  89.56   89.58   87.24     89.45  89.45     4.51151e7  AMD\n",
       "  ⋮  │     ⋮         ⋮       ⋮       ⋮        ⋮        ⋮          ⋮        ⋮   ⋱\n",
       " 358 │ 2022-06-03  105.8   109.39  104.65   106.3   106.3     1.10802e8  AMD\n",
       " 359 │ 2022-06-06  108.27  109.57  104.23   105.65  105.65    9.67269e7  AMD   ⋯\n",
       " 360 │ 2022-06-07  104.24  106.24  102.61   105.28  105.28    7.90229e7  AMD\n",
       " 361 │ 2022-06-08  104.57  105.85  100.41   101.9   101.9     9.76419e7  AMD\n",
       " 362 │ 2022-06-09  101.57  103.94  98.74     98.8   98.8      9.5299e7   AMD\n",
       " 363 │ 2022-06-10  98.82   99.93   94.25     94.82  94.82     1.02135e8  AMD   ⋯\n",
       " 364 │ 2022-06-13  91.26   92.03   86.64     86.99  86.99     9.81488e7  AMD\n",
       " 365 │ 2022-06-14  87.41   88.3    85.82     86.99  86.99     8.40666e7  AMD\n",
       " 366 │ 2022-06-15  87.9    90.86   86.19     89.3   89.3      9.57748e7  AMD\n",
       " 367 │ 2022-06-16  86.63   86.73   80.64     82.05  82.05     1.02433e8  AMD   ⋯\n",
       "\u001b[36m                                                   1 column and 346 rows omitted\u001b[0m\n",
       " \u001b[1m367×8 DataFrame\u001b[0m\n",
       "\u001b[1m Row \u001b[0m│\u001b[1m timestamp  \u001b[0m\u001b[1m Open  \u001b[0m\u001b[1m High  \u001b[0m\u001b[1m Low   \u001b[0m\u001b[1m Close   \u001b[0m\u001b[1m AdjClose \u001b[0m\u001b[1m Volume    \u001b[0m\u001b[1m Ticker \u001b[0m\n",
       "\u001b[1m     \u001b[0m│\u001b[90m Any        \u001b[0m\u001b[90m Any   \u001b[0m\u001b[90m Any   \u001b[0m\u001b[90m Any   \u001b[0m\u001b[90m Float64 \u001b[0m\u001b[90m Any      \u001b[0m\u001b[90m Any       \u001b[0m\u001b[90m Any    \u001b[0m\n",
       "─────┼───────────────────────────────────────────────────────────────────────\n",
       "   1 │ 2021-01-04  49.89  51.39  49.4     49.67  47.6718   4.61025e7  INTC\n",
       "   2 │ 2021-01-05  49.45  50.83  49.33    50.61  48.574    2.48666e7  INTC\n",
       "   3 │ 2021-01-06  50.44  52.15  50.2     51.1   49.0442   3.68096e7  INTC\n",
       "   4 │ 2021-01-07  51.49  52.69  51.3     52.19  50.0904   3.20923e7  INTC\n",
       "   5 │ 2021-01-08  52.45  52.53  51.27    51.65  49.5721   3.46254e7  INTC\n",
       "   6 │ 2021-01-11  51.29  52.24  51.25    51.54  49.4665   3.2925e7   INTC\n",
       "   7 │ 2021-01-12  51.9   53.85  51.56    53.24  51.0982   3.98839e7  INTC\n",
       "   8 │ 2021-01-13  59.5   60.25  56.9     56.95  54.6589   1.24071e8  INTC\n",
       "   9 │ 2021-01-14  58.45  60.14  57.84    59.25  56.8664   7.46809e7  INTC\n",
       "  10 │ 2021-01-15  58.85  59.65  57.5     57.58  55.2636   5.02654e7  INTC\n",
       "  11 │ 2021-01-19  57.94  58.34  57.1     57.99  55.6571   3.56471e7  INTC\n",
       "  ⋮  │     ⋮         ⋮      ⋮      ⋮       ⋮        ⋮          ⋮        ⋮\n",
       " 358 │ 2022-06-03  44.11  44.25  43.34    43.39  43.39     3.31623e7  INTC\n",
       " 359 │ 2022-06-06  43.81  44.04  43.08    43.34  43.34     2.54371e7  INTC\n",
       " 360 │ 2022-06-07  43.06  43.59  42.66    43.53  43.53     2.51687e7  INTC\n",
       " 361 │ 2022-06-08  42.25  42.26  41.03    41.23  41.23     5.96499e7  INTC\n",
       " 362 │ 2022-06-09  41.01  41.35  40.01    40.01  40.01     3.90472e7  INTC\n",
       " 363 │ 2022-06-10  39.85  40.08  39.18    39.18  39.18     4.30662e7  INTC\n",
       " 364 │ 2022-06-13  38.55  38.81  37.67    37.77  37.77     5.03359e7  INTC\n",
       " 365 │ 2022-06-14  38.01  38.2   37.54    37.93  37.93     3.13517e7  INTC\n",
       " 366 │ 2022-06-15  38.56  39.17  37.92    38.65  38.65     3.76523e7  INTC\n",
       " 367 │ 2022-06-16  37.7   37.79  36.93    37.34  37.34     4.55765e7  INTC\n",
       "\u001b[36m                                                             346 rows omitted\u001b[0m\n",
       " \u001b[1m367×8 DataFrame\u001b[0m\n",
       "\u001b[1m Row \u001b[0m│\u001b[1m timestamp  \u001b[0m\u001b[1m Open   \u001b[0m\u001b[1m High   \u001b[0m\u001b[1m Low    \u001b[0m\u001b[1m Close   \u001b[0m\u001b[1m AdjClose \u001b[0m\u001b[1m Volume    \u001b[0m\u001b[1m Ticke\u001b[0m ⋯\n",
       "\u001b[1m     \u001b[0m│\u001b[90m Any        \u001b[0m\u001b[90m Any    \u001b[0m\u001b[90m Any    \u001b[0m\u001b[90m Any    \u001b[0m\u001b[90m Float64 \u001b[0m\u001b[90m Any      \u001b[0m\u001b[90m Any       \u001b[0m\u001b[90m Any  \u001b[0m ⋯\n",
       "─────┼──────────────────────────────────────────────────────────────────────────\n",
       "   1 │ 2021-01-04  127.5   127.86  124.78   125.87  121.157   1.68199e7  JPM   ⋯\n",
       "   2 │ 2021-01-05  124.99  126.3   123.77   125.65  121.816   1.37312e7  JPM\n",
       "   3 │ 2021-01-06  129.88  132.77  127.88   131.55  127.536   2.49091e7  JPM\n",
       "   4 │ 2021-01-07  135.69  138.19  134.92   135.87  131.724   2.19404e7  JPM\n",
       "   5 │ 2021-01-08  135.97  136.35  134.12   136.02  131.87    1.20351e7  JPM   ⋯\n",
       "   6 │ 2021-01-11  134.58  138.2   134.11   138.05  133.838   1.59379e7  JPM\n",
       "   7 │ 2021-01-12  139.44  141.66  138.83   140.22  135.942   1.80335e7  JPM\n",
       "   8 │ 2021-01-13  138.59  140.79  138.1    140.35  136.068   1.48168e7  JPM\n",
       "   9 │ 2021-01-14  140.49  142.75  140.0    141.17  136.863   1.85656e7  JPM   ⋯\n",
       "  10 │ 2021-01-15  137.43  141.65  137.01   138.64  134.41    2.7881e7   JPM\n",
       "  11 │ 2021-01-19  139.86  140.7   137.82   138.04  133.828   1.98438e7  JPM\n",
       "  ⋮  │     ⋮         ⋮       ⋮       ⋮        ⋮        ⋮          ⋮        ⋮   ⋱\n",
       " 358 │ 2022-06-03  131.21  131.77  129.99   130.16  130.16    8.5953e6   JPM\n",
       " 359 │ 2022-06-06  131.09  132.39  129.46   129.73  129.73    1.13235e7  JPM   ⋯\n",
       " 360 │ 2022-06-07  128.83  130.32  128.62   130.07  130.07    6.7222e6   JPM\n",
       " 361 │ 2022-06-08  129.0   129.45  126.9    128.0   128.0     8.4221e6   JPM\n",
       " 362 │ 2022-06-09  127.37  128.1   125.27   125.31  125.31    1.35601e7  JPM\n",
       " 363 │ 2022-06-10  122.59  123.4   119.32   119.55  119.55    1.29452e7  JPM   ⋯\n",
       " 364 │ 2022-06-13  116.86  117.95  115.06   115.99  115.99    1.68056e7  JPM\n",
       " 365 │ 2022-06-14  115.55  117.32  113.22   114.06  114.06    1.33579e7  JPM\n",
       " 366 │ 2022-06-15  115.62  116.95  113.17   115.41  115.41    1.40835e7  JPM\n",
       " 367 │ 2022-06-16  113.86  114.26  111.87   113.43  113.43    1.67249e7  JPM   ⋯\n",
       "\u001b[36m                                                   1 column and 346 rows omitted\u001b[0m\n",
       " \u001b[1m367×8 DataFrame\u001b[0m\n",
       "\u001b[1m Row \u001b[0m│\u001b[1m timestamp  \u001b[0m\u001b[1m Open    \u001b[0m\u001b[1m High    \u001b[0m\u001b[1m Low    \u001b[0m\u001b[1m Close   \u001b[0m\u001b[1m AdjClose \u001b[0m\u001b[1m Volume    \u001b[0m\u001b[1m Tic\u001b[0m ⋯\n",
       "\u001b[1m     \u001b[0m│\u001b[90m Any        \u001b[0m\u001b[90m Any     \u001b[0m\u001b[90m Any     \u001b[0m\u001b[90m Any    \u001b[0m\u001b[90m Float64 \u001b[0m\u001b[90m Any      \u001b[0m\u001b[90m Any       \u001b[0m\u001b[90m Any\u001b[0m ⋯\n",
       "─────┼──────────────────────────────────────────────────────────────────────────\n",
       "   1 │ 2021-01-04  107.23   113.63   103.26   111.73  111.73    2.24396e7  MRN ⋯\n",
       "   2 │ 2021-01-05  113.82   114.98   107.2    109.18  109.18    1.54508e7  MRN\n",
       "   3 │ 2021-01-06  111.11   116.93   110.28   116.26  116.26    2.15909e7  MRN\n",
       "   4 │ 2021-01-07  120.1    122.82   112.13   115.09  115.09    2.06141e7  MRN\n",
       "   5 │ 2021-01-08  116.52   117.71   111.49   112.75  112.75    1.23769e7  MRN ⋯\n",
       "   6 │ 2021-01-11  112.75   121.24   112.62   117.26  117.26    1.66506e7  MRN\n",
       "   7 │ 2021-01-12  117.93   124.91   117.12   124.55  124.55    1.52762e7  MRN\n",
       "   8 │ 2021-01-13  123.7    127.58   120.74   124.06  124.06    1.43246e7  MRN\n",
       "   9 │ 2021-01-14  122.8    130.98   122.8    129.72  129.72    1.33467e7  MRN ⋯\n",
       "  10 │ 2021-01-15  129.6    133.29   126.58   129.65  129.65    1.57695e7  MRN\n",
       "  11 │ 2021-01-19  122.1    126.36   120.5    125.01  125.01    1.65289e7  MRN\n",
       "  ⋮  │     ⋮          ⋮        ⋮       ⋮        ⋮        ⋮          ⋮        ⋮ ⋱\n",
       " 358 │ 2022-06-03  139.58   143.38   135.07   137.15  137.15    4.057e6    MRN\n",
       " 359 │ 2022-06-06  137.99   143.0    136.71   140.0   140.0     3.14e6     MRN ⋯\n",
       " 360 │ 2022-06-07  139.37   146.355  137.96   145.34  145.34    4.0725e6   MRN\n",
       " 361 │ 2022-06-08  147.47   152.73   146.75   148.53  148.53    4.7113e6   MRN\n",
       " 362 │ 2022-06-09  148.46   148.74   134.0    134.04  134.04    7.534e6    MRN\n",
       " 363 │ 2022-06-10  132.89   134.69   124.53   127.12  127.12    6.259e6    MRN ⋯\n",
       " 364 │ 2022-06-13  122.71   124.78   115.61   117.13  117.13    6.7007e6   MRN\n",
       " 365 │ 2022-06-14  117.26   123.15   115.89   121.56  121.56    5.4991e6   MRN\n",
       " 366 │ 2022-06-15  122.44   131.38   122.44   128.53  128.53    6.965e6    MRN\n",
       " 367 │ 2022-06-16  124.38   125.255  118.06   121.08  121.08    5.72e6     MRN ⋯\n",
       "\u001b[36m                                                   1 column and 346 rows omitted\u001b[0m\n",
       " \u001b[1m367×8 DataFrame\u001b[0m\n",
       "\u001b[1m Row \u001b[0m│\u001b[1m timestamp  \u001b[0m\u001b[1m Open   \u001b[0m\u001b[1m High   \u001b[0m\u001b[1m Low    \u001b[0m\u001b[1m Close   \u001b[0m\u001b[1m AdjClose \u001b[0m\u001b[1m Volume   \u001b[0m\u001b[1m Ticker\u001b[0m ⋯\n",
       "\u001b[1m     \u001b[0m│\u001b[90m Any        \u001b[0m\u001b[90m Any    \u001b[0m\u001b[90m Any    \u001b[0m\u001b[90m Any    \u001b[0m\u001b[90m Float64 \u001b[0m\u001b[90m Any      \u001b[0m\u001b[90m Any      \u001b[0m\u001b[90m Any   \u001b[0m ⋯\n",
       "─────┼──────────────────────────────────────────────────────────────────────────\n",
       "   1 │ 2021-01-04  155.81  155.81  152.02   153.29  153.29    315600.0  TM     ⋯\n",
       "   2 │ 2021-01-05  151.91  153.4   151.75   153.4   153.4     231800.0  TM\n",
       "   3 │ 2021-01-06  152.71  154.17  152.48   153.53  153.53    296100.0  TM\n",
       "   4 │ 2021-01-07  151.66  152.7   151.51   152.67  152.67    345000.0  TM\n",
       "   5 │ 2021-01-08  153.6   154.06  152.11   152.85  152.85    418100.0  TM     ⋯\n",
       "   6 │ 2021-01-11  153.2   154.21  151.82   153.39  153.39    335500.0  TM\n",
       "   7 │ 2021-01-12  152.08  152.08  150.65   151.75  151.75    618700.0  TM\n",
       "   8 │ 2021-01-13  150.88  151.0   150.03   150.65  150.65    387500.0  TM\n",
       "   9 │ 2021-01-14  151.48  152.27  151.23   151.34  151.34    314900.0  TM     ⋯\n",
       "  10 │ 2021-01-15  148.66  149.15  147.39   148.41  148.41    390600.0  TM\n",
       "  11 │ 2021-01-19  148.45  148.74  147.45   148.13  148.13    368800.0  TM\n",
       "  ⋮  │     ⋮         ⋮       ⋮       ⋮        ⋮        ⋮         ⋮        ⋮    ⋱\n",
       " 358 │ 2022-06-03  166.12  166.12  164.11   164.81  164.81    261800.0  TM\n",
       " 359 │ 2022-06-06  167.28  167.41  165.32   165.58  165.58    157600.0  TM     ⋯\n",
       " 360 │ 2022-06-07  164.81  166.42  164.68   166.25  166.25    192000.0  TM\n",
       " 361 │ 2022-06-08  166.45  166.68  164.99   165.35  165.35    179600.0  TM\n",
       " 362 │ 2022-06-09  166.03  166.99  164.51   164.51  164.51    126900.0  TM\n",
       " 363 │ 2022-06-10  162.5   162.96  161.29   161.3   161.3     241400.0  TM     ⋯\n",
       " 364 │ 2022-06-13  157.6   157.74  155.14   155.5   155.5     339400.0  TM\n",
       " 365 │ 2022-06-14  155.5   156.18  154.13   155.16  155.16    265900.0  TM\n",
       " 366 │ 2022-06-15  155.09  157.43  154.31   156.75  156.75    211000.0  TM\n",
       " 367 │ 2022-06-16  156.44  156.7   153.52   154.46  154.46    461500.0  TM     ⋯\n",
       "\u001b[36m                                                               346 rows omitted\u001b[0m"
      ]
     },
     "execution_count": 47,
     "metadata": {},
     "output_type": "execute_result"
    }
   ],
   "source": [
    "markets"
   ]
  },
  {
   "cell_type": "code",
   "execution_count": null,
   "metadata": {},
   "outputs": [],
   "source": []
  }
 ],
 "metadata": {
  "kernelspec": {
   "display_name": "Julia 1.7.3",
   "language": "julia",
   "name": "julia-1.7"
  },
  "language_info": {
   "file_extension": ".jl",
   "mimetype": "application/julia",
   "name": "julia",
   "version": "1.7.3"
  },
  "vscode": {
   "interpreter": {
    "hash": "31f2aee4e71d21fbe5cf8b01ff0e069b9275f58929596ceb00d14d90e3e16cd6"
   }
  }
 },
 "nbformat": 4,
 "nbformat_minor": 4
}
