{
 "cells": [
  {
   "cell_type": "markdown",
   "metadata": {},
   "source": [
    "# Retirement \n",
    "Developed by Steve Kuhlman"
   ]
  },
  {
   "cell_type": "code",
   "execution_count": 1,
   "metadata": {},
   "outputs": [
    {
     "ename": "AssertionError",
     "evalue": "AssertionError: File ../output\\Retirementrun.xlsx not found.",
     "output_type": "error",
     "traceback": [
      "AssertionError: File ../output\\Retirementrun.xlsx not found.\n",
      "\n",
      "Stacktrace:\n",
      "  [1] openxlsx(f::XLSX.var\"#25#26\"{Nothing, Nothing, Bool, Bool, Bool, Nothing, String}, filepath::String; mode::String, enable_cache::Bool)\n",
      "    @ XLSX C:\\Users\\steve\\.julia\\packages\\XLSX\\tCUe6\\src\\read.jl:128\n",
      "  [2] #readtable#24\n",
      "    @ C:\\Users\\steve\\.julia\\packages\\XLSX\\tCUe6\\src\\read.jl:577 [inlined]\n",
      "  [3] readtable(filepath::String, sheet::String)\n",
      "    @ XLSX C:\\Users\\steve\\.julia\\packages\\XLSX\\tCUe6\\src\\read.jl:577\n",
      "  [4] top-level scope\n",
      "    @ \\\\wsl.localhost\\Ubuntu\\home\\steve\\.julia\\dev\\JPPF.jl\\src\\Retirement.ipynb:5\n",
      "  [5] eval\n",
      "    @ .\\boot.jl:373 [inlined]\n",
      "  [6] include_string(mapexpr::typeof(REPL.softscope), mod::Module, code::String, filename::String)\n",
      "    @ Base .\\loading.jl:1196\n",
      "  [7] #invokelatest#2\n",
      "    @ .\\essentials.jl:716 [inlined]\n",
      "  [8] invokelatest\n",
      "    @ .\\essentials.jl:714 [inlined]\n",
      "  [9] (::VSCodeServer.var\"#150#151\"{VSCodeServer.NotebookRunCellArguments, String})()\n",
      "    @ VSCodeServer c:\\Users\\steve\\.vscode\\extensions\\julialang.language-julia-1.5.9\\scripts\\packages\\VSCodeServer\\src\\serve_notebook.jl:18\n",
      " [10] withpath(f::VSCodeServer.var\"#150#151\"{VSCodeServer.NotebookRunCellArguments, String}, path::String)\n",
      "    @ VSCodeServer c:\\Users\\steve\\.vscode\\extensions\\julialang.language-julia-1.5.9\\scripts\\packages\\VSCodeServer\\src\\repl.jl:185\n",
      " [11] notebook_runcell_request(conn::VSCodeServer.JSONRPC.JSONRPCEndpoint{Base.PipeEndpoint, Base.PipeEndpoint}, params::VSCodeServer.NotebookRunCellArguments)\n",
      "    @ VSCodeServer c:\\Users\\steve\\.vscode\\extensions\\julialang.language-julia-1.5.9\\scripts\\packages\\VSCodeServer\\src\\serve_notebook.jl:14\n",
      " [12] dispatch_msg(x::VSCodeServer.JSONRPC.JSONRPCEndpoint{Base.PipeEndpoint, Base.PipeEndpoint}, dispatcher::VSCodeServer.JSONRPC.MsgDispatcher, msg::Dict{String, Any})\n",
      "    @ VSCodeServer.JSONRPC c:\\Users\\steve\\.vscode\\extensions\\julialang.language-julia-1.5.9\\scripts\\packages\\JSONRPC\\src\\typed.jl:67\n",
      " [13] serve_notebook(pipename::String; crashreporting_pipename::String)\n",
      "    @ VSCodeServer c:\\Users\\steve\\.vscode\\extensions\\julialang.language-julia-1.5.9\\scripts\\packages\\VSCodeServer\\src\\serve_notebook.jl:94\n",
      " [14] top-level scope\n",
      "    @ c:\\Users\\steve\\.vscode\\extensions\\julialang.language-julia-1.5.9\\scripts\\notebook\\notebook.jl:12\n",
      " [15] include(mod::Module, _path::String)\n",
      "    @ Base .\\Base.jl:418\n",
      " [16] exec_options(opts::Base.JLOptions)\n",
      "    @ Base .\\client.jl:292\n",
      " [17] _start()\n",
      "    @ Base .\\client.jl:495"
     ]
    }
   ],
   "source": [
    "using WGLMakie, XLSX, DataFrames, Dates\n",
    "#Note: Enter the model run file name here \n",
    "runFile=\"Retirementrun.xlsx\"\n",
    "runPath=joinpath(\"../output\", runFile)\n",
    "df = DataFrame(XLSX.readtable(runPath, \"Net\")...);\n",
    "periods=[x for x in 1:nrow(df)]\n",
    "\n",
    "# Plot NetIncome, Gross Income and Expesnes \n",
    "f=Figure()\n",
    "ax=f[1,1] = Axis(f, ylabel=\"Amount (thousands)\", xlabel=\"Month\", title=\"Estimated Income and Expenses during Retirement\")\n",
    "thousands(x)=convert.(Float64, x) ./ 1000.0\n",
    "lines!(periods, thousands(df.NetIncome); label=\"NetIncome\", color=:blue)\n",
    "lines!(periods, thousands(df.TotalExpense);label=\"Expense\", color=:red)\n",
    "lines!(periods, thousands(df.TotalIncome);label=\"Income\", color=:green)\n",
    "f[1,2] = Legend(f, ax)\n",
    "current_figure()"
   ]
  },
  {
   "cell_type": "code",
   "execution_count": 69,
   "metadata": {},
   "outputs": [
    {
     "data": {
      "text/html": [
       "<div data-jscall-id=\"727\"><script data-jscall-id=\"728\" type=\"text/javascript\">\n",
       "    function register_resize_handler(remote_origin) {\n",
       "        function resize_callback(event) {\n",
       "            if (event.origin !== remote_origin) {\n",
       "                return;\n",
       "            }\n",
       "            const uuid = event.data[0];\n",
       "            const width = event.data[1];\n",
       "            const height = event.data[2];\n",
       "            const iframe = document.getElementById('48f28dc1-f4fd-4daa-b414-2af081765174');\n",
       "            if (iframe) {\n",
       "                iframe.style.width = width + \"px\";\n",
       "                iframe.style.height = height + \"px\";\n",
       "            }\n",
       "        }\n",
       "        if (window.addEventListener) {\n",
       "            window.addEventListener(\"message\", resize_callback, false);\n",
       "        } else if (window.attachEvent) {\n",
       "            window.attachEvent(\"onmessage\", resize_callback);\n",
       "        }\n",
       "    }\n",
       "    register_resize_handler('http://127.0.0.1:9284')\n",
       "\n",
       "</script><iframe scrolling=\"no\" id=\"48f28dc1-f4fd-4daa-b414-2af081765174\" data-jscall-id=\"726\" src=\"http://127.0.0.1:9284/48f28dc1-f4fd-4daa-b414-2af081765174\" style=\"position: relative; display: block; width: 100%; height: 100%; padding: 0; overflow: hidden; border: none\"></iframe></div>\n"
      ]
     },
     "metadata": {},
     "output_type": "display_data"
    }
   ],
   "source": [
    "#Plot Assets\n",
    "fv=Figure()\n",
    "ax2= f[1,1] = Axis(fv, ylabel=\"Amount (thousands)\", xlabel=\"Month\", title=\"Estimated Net Worth during Retirement\")\n",
    "thousands(x)=round.(Int, convert.(Float64, x) ./ 1000.0)\n",
    "lines!(periods, thousands(df.NetWorth);color=:green)\n",
    "startValue=thousands(df.NetWorth[1])\n",
    "startText=\"\\$\"*string(startValue)*\"K\"\n",
    "text!(startText, position=(0,startValue*1.3 ), color=:green)\n",
    "endValue=thousands(df.NetWorth[end])\n",
    "endText=\"\\$\"*string(endValue)*\"K\"\n",
    "text!(endText, position=(nrow(df)*0.8,endValue*0.95 ), color=:green)\n",
    "fv"
   ]
  }
 ],
 "metadata": {
  "kernelspec": {
   "display_name": "Julia 1.7.1",
   "language": "julia",
   "name": "julia-1.7"
  },
  "language_info": {
   "file_extension": ".jl",
   "mimetype": "application/julia",
   "name": "julia",
   "version": "1.7.1"
  }
 },
 "nbformat": 4,
 "nbformat_minor": 2
}
