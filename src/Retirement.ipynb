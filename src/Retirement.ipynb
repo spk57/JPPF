{
 "cells": [
  {
   "cell_type": "markdown",
   "metadata": {},
   "source": [
    "# Retirement \n",
    "Developed by Steve Kuhlman"
   ]
  },
  {
   "cell_type": "code",
   "execution_count": 50,
   "metadata": {},
   "outputs": [
    {
     "data": {
      "text/html": [
       "<div data-jscall-id=\"472\"><script data-jscall-id=\"473\" type=\"text/javascript\">\n",
       "    function register_resize_handler(remote_origin) {\n",
       "        function resize_callback(event) {\n",
       "            if (event.origin !== remote_origin) {\n",
       "                return;\n",
       "            }\n",
       "            const uuid = event.data[0];\n",
       "            const width = event.data[1];\n",
       "            const height = event.data[2];\n",
       "            const iframe = document.getElementById('b8634112-3b73-4522-88a9-3d7d6138f664');\n",
       "            if (iframe) {\n",
       "                iframe.style.width = width + \"px\";\n",
       "                iframe.style.height = height + \"px\";\n",
       "            }\n",
       "        }\n",
       "        if (window.addEventListener) {\n",
       "            window.addEventListener(\"message\", resize_callback, false);\n",
       "        } else if (window.attachEvent) {\n",
       "            window.attachEvent(\"onmessage\", resize_callback);\n",
       "        }\n",
       "    }\n",
       "    register_resize_handler('http://127.0.0.1:9284')\n",
       "\n",
       "</script><iframe scrolling=\"no\" id=\"b8634112-3b73-4522-88a9-3d7d6138f664\" data-jscall-id=\"471\" src=\"http://127.0.0.1:9284/b8634112-3b73-4522-88a9-3d7d6138f664\" style=\"position: relative; display: block; width: 100%; height: 100%; padding: 0; overflow: hidden; border: none\"></iframe></div>\n"
      ]
     },
     "metadata": {},
     "output_type": "display_data"
    }
   ],
   "source": [
    "using WGLMakie, XLSX, DataFrames, Dates\n",
    "#Note: Enter the model run file name here \n",
    "runFile=\"RetirementRun2022-01-09T08:38:55.267.xlsx\"\n",
    "runPath=joinpath(\"../output\", runFile)\n",
    "df = DataFrame(XLSX.readtable(runPath, \"Net\")...);\n",
    "periods=[x for x in 1:nrow(netIncome)]\n",
    "\n",
    "# Plot NetIncome, Gross Income and Expesnes \n",
    "f=Figure()\n",
    "ax=f[1,1] = Axis(f, ylabel=\"Amount (thousands)\", xlabel=\"Month\", title=\"Estimated Income and Expenses during Retirement\")\n",
    "thousands(x)=convert.(Float64, x) ./ 1000.0\n",
    "lines!(periods, thousands(df.NetIncome); label=\"NetIncome\", color=:blue)\n",
    "lines!(periods, thousands(df.TotalExpense);label=\"Expense\", color=:red)\n",
    "lines!(periods, thousands(df.TotalIncome);label=\"Income\", color=:green)\n",
    "f[1,2] = Legend(f, ax)\n",
    "current_figure()"
   ]
  },
  {
   "cell_type": "code",
   "execution_count": 69,
   "metadata": {},
   "outputs": [
    {
     "data": {
      "text/html": [
       "<div data-jscall-id=\"727\"><script data-jscall-id=\"728\" type=\"text/javascript\">\n",
       "    function register_resize_handler(remote_origin) {\n",
       "        function resize_callback(event) {\n",
       "            if (event.origin !== remote_origin) {\n",
       "                return;\n",
       "            }\n",
       "            const uuid = event.data[0];\n",
       "            const width = event.data[1];\n",
       "            const height = event.data[2];\n",
       "            const iframe = document.getElementById('48f28dc1-f4fd-4daa-b414-2af081765174');\n",
       "            if (iframe) {\n",
       "                iframe.style.width = width + \"px\";\n",
       "                iframe.style.height = height + \"px\";\n",
       "            }\n",
       "        }\n",
       "        if (window.addEventListener) {\n",
       "            window.addEventListener(\"message\", resize_callback, false);\n",
       "        } else if (window.attachEvent) {\n",
       "            window.attachEvent(\"onmessage\", resize_callback);\n",
       "        }\n",
       "    }\n",
       "    register_resize_handler('http://127.0.0.1:9284')\n",
       "\n",
       "</script><iframe scrolling=\"no\" id=\"48f28dc1-f4fd-4daa-b414-2af081765174\" data-jscall-id=\"726\" src=\"http://127.0.0.1:9284/48f28dc1-f4fd-4daa-b414-2af081765174\" style=\"position: relative; display: block; width: 100%; height: 100%; padding: 0; overflow: hidden; border: none\"></iframe></div>\n"
      ]
     },
     "metadata": {},
     "output_type": "display_data"
    }
   ],
   "source": [
    "#Plot Assets\n",
    "fv=Figure()\n",
    "ax2= f[1,1] = Axis(fv, ylabel=\"Amount (thousands)\", xlabel=\"Month\", title=\"Estimated Net Worth during Retirement\")\n",
    "thousands(x)=round.(Int, convert.(Float64, x) ./ 1000.0)\n",
    "lines!(periods, thousands(df.NetWorth);color=:green)\n",
    "startValue=thousands(df.NetWorth[1])\n",
    "startText=\"\\$\"*string(startValue)*\"K\"\n",
    "text!(startText, position=(0,startValue*1.3 ), color=:green)\n",
    "endValue=thousands(df.NetWorth[end])\n",
    "endText=\"\\$\"*string(endValue)*\"K\"\n",
    "text!(endText, position=(nrow(netIncome)*0.8,endValue*0.95 ), color=:green)\n",
    "fv"
   ]
  }
 ],
 "metadata": {
  "kernelspec": {
   "display_name": "Julia 1.7.1",
   "language": "julia",
   "name": "julia-1.7"
  },
  "language_info": {
   "file_extension": ".jl",
   "mimetype": "application/julia",
   "name": "julia",
   "version": "1.7.1"
  }
 },
 "nbformat": 4,
 "nbformat_minor": 2
}
